{
 "cells": [
  {
   "cell_type": "code",
   "execution_count": 10,
   "metadata": {},
   "outputs": [
    {
     "name": "stdout",
     "output_type": "stream",
     "text": [
      "INFO:tensorflow:Assets written to: pre-train-savedmodel/assets\n"
     ]
    },
    {
     "name": "stderr",
     "output_type": "stream",
     "text": [
      "INFO:tensorflow:Assets written to: pre-train-savedmodel/assets\n"
     ]
    },
    {
     "name": "stdout",
     "output_type": "stream",
     "text": [
      "Saved artifact at 'pre-train-savedmodel'. The following endpoints are available:\n",
      "\n",
      "* Endpoint 'serve'\n",
      "  args_0 (POSITIONAL_ONLY): TensorSpec(shape=(None, 784), dtype=tf.float32, name='input_layer_6')\n",
      "Output Type:\n",
      "  TensorSpec(shape=(None, 10), dtype=tf.float32, name=None)\n",
      "Captures:\n",
      "  11946253424: TensorSpec(shape=(), dtype=tf.resource, name=None)\n",
      "  11931909136: TensorSpec(shape=(), dtype=tf.resource, name=None)\n",
      "  11959121728: TensorSpec(shape=(), dtype=tf.resource, name=None)\n",
      "  11959271664: TensorSpec(shape=(), dtype=tf.resource, name=None)\n",
      "  11959283456: TensorSpec(shape=(), dtype=tf.resource, name=None)\n",
      "  11959280464: TensorSpec(shape=(), dtype=tf.resource, name=None)\n",
      "  11959272544: TensorSpec(shape=(), dtype=tf.resource, name=None)\n",
      "  11959404848: TensorSpec(shape=(), dtype=tf.resource, name=None)\n"
     ]
    }
   ],
   "source": [
    "import tensorflow as tf\n",
    "\n",
    "# Load mô hình từ file .keras\n",
    "model = tf.keras.models.load_model('pre-train.keras')\n",
    "\n",
    "# Lưu mô hình dưới dạng SavedModel\n",
    "model.export('pre-train-savedmodel')  # Thư mục sẽ được tạo ra"
   ]
  }
 ],
 "metadata": {
  "kernelspec": {
   "display_name": "tf-metal",
   "language": "python",
   "name": "python3"
  },
  "language_info": {
   "codemirror_mode": {
    "name": "ipython",
    "version": 3
   },
   "file_extension": ".py",
   "mimetype": "text/x-python",
   "name": "python",
   "nbconvert_exporter": "python",
   "pygments_lexer": "ipython3",
   "version": "3.10.16"
  }
 },
 "nbformat": 4,
 "nbformat_minor": 2
}
