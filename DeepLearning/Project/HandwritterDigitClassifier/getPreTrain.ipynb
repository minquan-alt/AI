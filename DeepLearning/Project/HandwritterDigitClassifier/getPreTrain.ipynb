{
 "cells": [
  {
   "cell_type": "code",
   "execution_count": 1,
   "metadata": {
    "colab": {
     "base_uri": "https://localhost:8080/"
    },
    "executionInfo": {
     "elapsed": 451,
     "status": "ok",
     "timestamp": 1735532592399,
     "user": {
      "displayName": "Minh Quang Hoàng Bá",
      "userId": "03752661564848898476"
     },
     "user_tz": -420
    },
    "id": "qnpGJ-Yje-5U",
    "outputId": "b1b67aad-81b4-48b1-961d-dd88a5c654f2"
   },
   "outputs": [
    {
     "name": "stdout",
     "output_type": "stream",
     "text": [
      "Current Directory: /Users/minhquang/Documents/Learning/AI/DeepLearning/Project/HandwritterDigitClassifier\n"
     ]
    }
   ],
   "source": [
    "import os\n",
    "\n",
    "# Lấy thư mục hiện tại\n",
    "current_directory = os.getcwd()\n",
    "print(\"Current Directory:\", current_directory)\n"
   ]
  },
  {
   "cell_type": "code",
   "execution_count": 2,
   "metadata": {
    "colab": {
     "base_uri": "https://localhost:8080/"
    },
    "executionInfo": {
     "elapsed": 5486,
     "status": "ok",
     "timestamp": 1735532604438,
     "user": {
      "displayName": "Minh Quang Hoàng Bá",
      "userId": "03752661564848898476"
     },
     "user_tz": -420
    },
    "id": "APgooY9Le-5W",
    "outputId": "cb74fb79-fc5e-4bba-f0d3-a41c728dd26d"
   },
   "outputs": [
    {
     "name": "stdout",
     "output_type": "stream",
     "text": [
      "Model has been loaded.\n"
     ]
    }
   ],
   "source": [
    "from keras.models import load_model\n",
    "\n",
    "# Đường dẫn đến mô hình đã lưu\n",
    "model_load_path = '/Users/minhquang/Documents/Learning/AI/DeepLearning/Project/HandwritterDigitClassifier/pre-train.keras'\n",
    "# Tải lại mô hình\n",
    "model = load_model(model_load_path)\n",
    "\n",
    "print(\"Model has been loaded.\")\n"
   ]
  },
  {
   "cell_type": "code",
   "execution_count": 11,
   "metadata": {
    "colab": {
     "base_uri": "https://localhost:8080/",
     "height": 1000,
     "referenced_widgets": [
      "395ebf3cd04840d09754d9b940d276ff",
      "40b1c0621fd5422ebe878e45cb625ed1",
      "719da300c9ba467185c0875ce8fa5a1f",
      "259618dddef3424ea47ae1eefb7ee80e",
      "11004291400f49919cfbb920cbba0e74",
      "7d7ff236072b4188855489affa6099e2"
     ]
    },
    "executionInfo": {
     "elapsed": 444,
     "status": "ok",
     "timestamp": 1735533683794,
     "user": {
      "displayName": "Minh Quang Hoàng Bá",
      "userId": "03752661564848898476"
     },
     "user_tz": -420
    },
    "id": "n32OIdLQf5fp",
    "outputId": "9441093d-be90-437f-b2f5-7b3380a464e3"
   },
   "outputs": [
    {
     "data": {
      "application/vnd.jupyter.widget-view+json": {
       "model_id": "565388aa15f944c6a2fa524e0d77825f",
       "version_major": 2,
       "version_minor": 0
      },
      "text/plain": [
       "Canvas(height=280, sync_image_data=True, width=280)"
      ]
     },
     "metadata": {},
     "output_type": "display_data"
    },
    {
     "data": {
      "application/vnd.jupyter.widget-view+json": {
       "model_id": "8fc18af7f4d4499bbb6209ae907547f6",
       "version_major": 2,
       "version_minor": 0
      },
      "text/plain": [
       "Button(description='Dự đoán Số', style=ButtonStyle())"
      ]
     },
     "metadata": {},
     "output_type": "display_data"
    }
   ],
   "source": [
    "from PIL import Image\n",
    "import numpy as np\n",
    "import matplotlib.pyplot as plt\n",
    "from ipywidgets import widgets\n",
    "from ipycanvas import Canvas\n",
    "\n",
    "# Canvas\n",
    "canvas = Canvas(width=280, height=280)\n",
    "canvas.stroke_style = 'white'\n",
    "canvas.line_width = 15\n",
    "canvas.fill_style = 'black'\n",
    "canvas.sync_image_data = True\n",
    "\n",
    "# Biến để theo dõi xem chuột có đang nhấn hay không\n",
    "is_drawing = False\n",
    "\n",
    "# Khi nhấn chuột, bắt đầu vẽ\n",
    "def on_mouse_down(x, y):\n",
    "    global is_drawing\n",
    "    is_drawing = True\n",
    "    canvas.begin_path()\n",
    "    canvas.move_to(x, y)\n",
    "\n",
    "# Khi nhả chuột, kết thúc vẽ\n",
    "def on_mouse_up(x, y):\n",
    "    global is_drawing\n",
    "    is_drawing = False\n",
    "\n",
    "# Khi di chuyển chuột, nếu đang vẽ thì vẽ tiếp\n",
    "def on_mouse_move(x, y):\n",
    "    if is_drawing:\n",
    "        canvas.line_to(x, y)\n",
    "        canvas.stroke()\n",
    "\n",
    "# Hàm xử lý và dự đoán số khi người dùng nhấn nút\n",
    "def predict_digit(change=None):\n",
    "    # Get image data from canvas\n",
    "    image_data = np.array(canvas.get_image_data())\n",
    "\n",
    "    # Convert to grayscale\n",
    "    image_data_gray = np.mean(image_data[:, :, :3], axis=2)  # Grayscale\n",
    "\n",
    "    # Display the drawn image\n",
    "    plt.imshow(image_data, cmap='gray')\n",
    "    plt.title(\"Drawn Image\")\n",
    "    plt.axis('off')\n",
    "    plt.show()\n",
    "\n",
    "    # Resize to 28x28 pixels for the MNIST model\n",
    "    image_data = Image.fromarray(image_data_gray)\n",
    "    image_data = image_data.resize((28, 28), Image.Resampling.LANCZOS)\n",
    "    image_data = np.array(image_data)\n",
    "\n",
    "    # Normalize and reshape the image for the model\n",
    "    image_data = image_data / 255.0  \n",
    "    image_data = np.expand_dims(image_data.flatten(), axis=0)  \n",
    "\n",
    "    # Show the processed image\n",
    "    # plt.imshow(image_data.reshape(28, 28), cmap='gray')\n",
    "    # plt.title(\"Processed Image for Prediction\")\n",
    "    # plt.axis('off')\n",
    "    # plt.show()\n",
    "\n",
    "    # Predict using the model\n",
    "    prediction = model.predict(image_data)[0]\n",
    "    print(\"Prediction:\", prediction)\n",
    "    predicted_digit = np.argmax(prediction)   \n",
    "    print(\"Predicted_digit:\", predicted_digit)\n",
    "\n",
    "    numbers = list(range(10))  # Digits 0 through 9\n",
    "    plt.bar(numbers, prediction, color='blue', alpha=0.7)\n",
    "    plt.title(\"Model Prediction Probabilities\")\n",
    "    plt.xlabel(\"Digits\")\n",
    "    plt.ylabel(\"Probability\")\n",
    "    plt.xticks(numbers)\n",
    "    plt.grid(axis='y', linestyle='--', alpha=0.7)\n",
    "    plt.show()\n",
    "\n",
    "    # Display prediction results\n",
    "    print(f\"Predicted Digit: {predicted_digit}\")\n",
    "\n",
    "    # Clear and reset the canvas\n",
    "    canvas.clear()\n",
    "    canvas.fill_rect(0, 0, canvas.width, canvas.height)  # Reset to black background\n",
    "\n",
    "\n",
    "# Button to predict\n",
    "predict_button = widgets.Button(description=\"Dự đoán Số\")\n",
    "predict_button.on_click(predict_digit)\n",
    "\n",
    "# Assign event for mouse controll\n",
    "canvas.on_mouse_down(on_mouse_down)\n",
    "canvas.on_mouse_up(on_mouse_up)\n",
    "canvas.on_mouse_move(on_mouse_move)\n",
    "\n",
    "# Display canvas and button\n",
    "display(canvas, predict_button)\n"
   ]
  },
  {
   "cell_type": "code",
   "execution_count": null,
   "metadata": {},
   "outputs": [],
   "source": []
  }
 ],
 "metadata": {
  "colab": {
   "provenance": []
  },
  "kernelspec": {
   "display_name": "Python 3 (ipykernel)",
   "language": "python",
   "name": "python3"
  },
  "language_info": {
   "codemirror_mode": {
    "name": "ipython",
    "version": 3
   },
   "file_extension": ".py",
   "mimetype": "text/x-python",
   "name": "python",
   "nbconvert_exporter": "python",
   "pygments_lexer": "ipython3",
   "version": "3.10.16"
  },
  "widgets": {
   "application/vnd.jupyter.widget-state+json": {
    "11004291400f49919cfbb920cbba0e74": {
     "model_module": "@jupyter-widgets/base",
     "model_module_version": "1.2.0",
     "model_name": "LayoutModel",
     "state": {
      "_model_module": "@jupyter-widgets/base",
      "_model_module_version": "1.2.0",
      "_model_name": "LayoutModel",
      "_view_count": null,
      "_view_module": "@jupyter-widgets/base",
      "_view_module_version": "1.2.0",
      "_view_name": "LayoutView",
      "align_content": null,
      "align_items": null,
      "align_self": null,
      "border": null,
      "bottom": null,
      "display": null,
      "flex": null,
      "flex_flow": null,
      "grid_area": null,
      "grid_auto_columns": null,
      "grid_auto_flow": null,
      "grid_auto_rows": null,
      "grid_column": null,
      "grid_gap": null,
      "grid_row": null,
      "grid_template_areas": null,
      "grid_template_columns": null,
      "grid_template_rows": null,
      "height": null,
      "justify_content": null,
      "justify_items": null,
      "left": null,
      "margin": null,
      "max_height": null,
      "max_width": null,
      "min_height": null,
      "min_width": null,
      "object_fit": null,
      "object_position": null,
      "order": null,
      "overflow": null,
      "overflow_x": null,
      "overflow_y": null,
      "padding": null,
      "right": null,
      "top": null,
      "visibility": null,
      "width": null
     }
    },
    "259618dddef3424ea47ae1eefb7ee80e": {
     "model_module": "@jupyter-widgets/controls",
     "model_module_version": "1.5.0",
     "model_name": "ButtonModel",
     "state": {
      "_dom_classes": [],
      "_model_module": "@jupyter-widgets/controls",
      "_model_module_version": "1.5.0",
      "_model_name": "ButtonModel",
      "_view_count": null,
      "_view_module": "@jupyter-widgets/controls",
      "_view_module_version": "1.5.0",
      "_view_name": "ButtonView",
      "button_style": "",
      "description": "Dự đoán Số",
      "disabled": false,
      "icon": "",
      "layout": "IPY_MODEL_11004291400f49919cfbb920cbba0e74",
      "style": "IPY_MODEL_7d7ff236072b4188855489affa6099e2",
      "tooltip": ""
     }
    },
    "395ebf3cd04840d09754d9b940d276ff": {
     "model_module": "ipycanvas",
     "model_module_version": "^0.13",
     "model_name": "CanvasModel",
     "state": {
      "_canvas_manager": "IPY_MODEL_40b1c0621fd5422ebe878e45cb625ed1",
      "_dom_classes": [],
      "_model_module": "ipycanvas",
      "_model_module_version": "^0.13",
      "_model_name": "CanvasModel",
      "_send_client_ready_event": true,
      "_view_count": null,
      "_view_module": "ipycanvas",
      "_view_module_version": "^0.13",
      "_view_name": "CanvasView",
      "height": 280,
      "image_data": null,
      "layout": "IPY_MODEL_719da300c9ba467185c0875ce8fa5a1f",
      "sync_image_data": true,
      "width": 280
     }
    },
    "40b1c0621fd5422ebe878e45cb625ed1": {
     "model_module": "ipycanvas",
     "model_module_version": "^0.13",
     "model_name": "CanvasManagerModel",
     "state": {
      "_model_module": "ipycanvas",
      "_model_module_version": "^0.13",
      "_model_name": "CanvasManagerModel",
      "_view_count": null,
      "_view_module": null,
      "_view_module_version": "",
      "_view_name": null
     }
    },
    "719da300c9ba467185c0875ce8fa5a1f": {
     "model_module": "@jupyter-widgets/base",
     "model_module_version": "1.2.0",
     "model_name": "LayoutModel",
     "state": {
      "_model_module": "@jupyter-widgets/base",
      "_model_module_version": "1.2.0",
      "_model_name": "LayoutModel",
      "_view_count": null,
      "_view_module": "@jupyter-widgets/base",
      "_view_module_version": "1.2.0",
      "_view_name": "LayoutView",
      "align_content": null,
      "align_items": null,
      "align_self": null,
      "border": null,
      "bottom": null,
      "display": null,
      "flex": null,
      "flex_flow": null,
      "grid_area": null,
      "grid_auto_columns": null,
      "grid_auto_flow": null,
      "grid_auto_rows": null,
      "grid_column": null,
      "grid_gap": null,
      "grid_row": null,
      "grid_template_areas": null,
      "grid_template_columns": null,
      "grid_template_rows": null,
      "height": null,
      "justify_content": null,
      "justify_items": null,
      "left": null,
      "margin": null,
      "max_height": null,
      "max_width": null,
      "min_height": null,
      "min_width": null,
      "object_fit": null,
      "object_position": null,
      "order": null,
      "overflow": null,
      "overflow_x": null,
      "overflow_y": null,
      "padding": null,
      "right": null,
      "top": null,
      "visibility": null,
      "width": null
     }
    },
    "7d7ff236072b4188855489affa6099e2": {
     "model_module": "@jupyter-widgets/controls",
     "model_module_version": "1.5.0",
     "model_name": "ButtonStyleModel",
     "state": {
      "_model_module": "@jupyter-widgets/controls",
      "_model_module_version": "1.5.0",
      "_model_name": "ButtonStyleModel",
      "_view_count": null,
      "_view_module": "@jupyter-widgets/base",
      "_view_module_version": "1.2.0",
      "_view_name": "StyleView",
      "button_color": null,
      "font_weight": ""
     }
    }
   }
  }
 },
 "nbformat": 4,
 "nbformat_minor": 4
}
