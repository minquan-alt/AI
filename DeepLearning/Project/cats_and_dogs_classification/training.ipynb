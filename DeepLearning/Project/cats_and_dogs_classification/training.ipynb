{
 "cells": [
  {
   "cell_type": "markdown",
   "metadata": {},
   "source": [
    "# Cats and Dogs Classification\n",
    "<h4> Deep Learning With ANN </h4>"
   ]
  },
  {
   "cell_type": "markdown",
   "metadata": {},
   "source": [
    "### 1. Packages "
   ]
  },
  {
   "cell_type": "code",
   "execution_count": 2,
   "metadata": {},
   "outputs": [],
   "source": [
    "import numpy as np\n",
    "import pandas as pd\n",
    "import matplotlib.pyplot as plt\n",
    "from PIL import Image\n",
    "import os\n",
    "import pwd\n",
    "import copy\n",
    "import h5py\n"
   ]
  },
  {
   "cell_type": "markdown",
   "metadata": {},
   "source": [
    "### 2. Preprocessing Data"
   ]
  },
  {
   "cell_type": "markdown",
   "metadata": {},
   "source": [
    "#### Load data"
   ]
  },
  {
   "cell_type": "code",
   "execution_count": 3,
   "metadata": {},
   "outputs": [],
   "source": [
    "# copy path\n",
    "data_folder = '/Users/minhquang/Documents/Learning/AI/data/kagglecatsanddogs_5340/PetImages'"
   ]
  },
  {
   "cell_type": "code",
   "execution_count": 4,
   "metadata": {},
   "outputs": [
    {
     "data": {
      "text/plain": [
       "['Cat', '.DS_Store', 'Dog']"
      ]
     },
     "execution_count": 4,
     "metadata": {},
     "output_type": "execute_result"
    }
   ],
   "source": [
    "os.listdir(data_folder)"
   ]
  },
  {
   "cell_type": "code",
   "execution_count": 5,
   "metadata": {},
   "outputs": [],
   "source": [
    "def load_image_lazy(data_folder, target_size=(128, 128)):\n",
    "    '''\n",
    "    data_folder: folder contains all of dataset\n",
    "    -return: images (array), labels\n",
    "    target_size: fixed size for all images\n",
    "    '''\n",
    "    for label in os.listdir(data_folder):\n",
    "        folder_path = os.path.join(data_folder, label) # take directory of each label\n",
    "        \n",
    "        if os.path.isdir(folder_path):\n",
    "            for file_name in os.listdir(folder_path):\n",
    "                file_path = os.path.join(folder_path, file_name)\n",
    "                try:\n",
    "                    with Image.open(file_path) as img:\n",
    "                        img = img.convert('RGB')\n",
    "                        img = img.resize(target_size)\n",
    "                        img_array = np.asarray(img)\n",
    "                        yield img_array, label\n",
    "                except Exception as e:\n",
    "                    print(f\"Can't process the file image: {e}\")\n",
    "                    "
   ]
  },
  {
   "cell_type": "code",
   "execution_count": 6,
   "metadata": {},
   "outputs": [],
   "source": [
    "def load_data(data_folder):\n",
    "    X, y = [], []\n",
    "    count_label = 0\n",
    "    classes = {}\n",
    "    for img_array, label in load_image_lazy(data_folder):\n",
    "        yi = None\n",
    "        X.append(img_array)\n",
    "        if label not in classes:\n",
    "            classes[label] = count_label\n",
    "            count_label += 1\n",
    "        y.append(classes[label])\n",
    "    return np.array(X), np.array(y), classes"
   ]
  },
  {
   "cell_type": "code",
   "execution_count": 7,
   "metadata": {},
   "outputs": [
    {
     "name": "stdout",
     "output_type": "stream",
     "text": [
      "Can't process the file image: cannot identify image file '/Users/minhquang/Documents/Learning/AI/data/kagglecatsanddogs_5340/PetImages/Cat/Thumbs.db'\n",
      "Can't process the file image: cannot identify image file '/Users/minhquang/Documents/Learning/AI/data/kagglecatsanddogs_5340/PetImages/Cat/666.jpg'\n"
     ]
    },
    {
     "name": "stderr",
     "output_type": "stream",
     "text": [
      "/Users/minhquang/Documents/Learning/AI/py3.10.venv/lib/python3.10/site-packages/PIL/TiffImagePlugin.py:949: UserWarning: Truncated File Read\n",
      "  warnings.warn(str(msg))\n"
     ]
    },
    {
     "name": "stdout",
     "output_type": "stream",
     "text": [
      "Can't process the file image: cannot identify image file '/Users/minhquang/Documents/Learning/AI/data/kagglecatsanddogs_5340/PetImages/Dog/Thumbs.db'\n",
      "Can't process the file image: cannot identify image file '/Users/minhquang/Documents/Learning/AI/data/kagglecatsanddogs_5340/PetImages/Dog/11702.jpg'\n"
     ]
    }
   ],
   "source": [
    "X_orig, y_orig, classes = load_data(data_folder)"
   ]
  },
  {
   "cell_type": "code",
   "execution_count": 8,
   "metadata": {},
   "outputs": [
    {
     "name": "stdout",
     "output_type": "stream",
     "text": [
      "X_orig shape: (24998, 128, 128, 3)\n",
      "y_orig shape: (24998,)\n",
      "Classes mapping: {'Cat': 0, 'Dog': 1}\n"
     ]
    }
   ],
   "source": [
    "print(\"X_orig shape:\", X_orig.shape)\n",
    "print(\"y_orig shape:\", y_orig.shape)\n",
    "print(\"Classes mapping:\", classes)"
   ]
  },
  {
   "cell_type": "markdown",
   "metadata": {},
   "source": [
    "#### Process data"
   ]
  },
  {
   "cell_type": "code",
   "execution_count": 9,
   "metadata": {},
   "outputs": [],
   "source": [
    "X_standardize = X_orig/255.\n",
    "X = X_standardize.reshape(X_standardize.shape[0], -1).T\n",
    "y = y_orig.reshape(1, -1)"
   ]
  },
  {
   "cell_type": "code",
   "execution_count": 10,
   "metadata": {},
   "outputs": [
    {
     "name": "stdout",
     "output_type": "stream",
     "text": [
      "X shape: (49152, 24998)\n",
      "y shape: (1, 24998)\n"
     ]
    }
   ],
   "source": [
    "print(\"X shape:\", X.shape)\n",
    "print(\"y shape:\", y.shape)"
   ]
  },
  {
   "cell_type": "code",
   "execution_count": 11,
   "metadata": {},
   "outputs": [],
   "source": [
    "from sklearn.model_selection import train_test_split\n",
    "X_train, X_test, y_train, y_test = train_test_split(X.T, y.T, train_size=0.8)"
   ]
  },
  {
   "cell_type": "code",
   "execution_count": 12,
   "metadata": {},
   "outputs": [
    {
     "name": "stdout",
     "output_type": "stream",
     "text": [
      "(1, 2000)\n",
      "(49152, 2000)\n"
     ]
    }
   ],
   "source": [
    "print(y_train.T[:, :2000].shape)\n",
    "print(X_train.T[:, :2000].shape)"
   ]
  },
  {
   "cell_type": "markdown",
   "metadata": {},
   "source": [
    "### 3. ANN Model"
   ]
  },
  {
   "cell_type": "markdown",
   "metadata": {},
   "source": [
    "#### 3.1. Helper functions"
   ]
  },
  {
   "cell_type": "code",
   "execution_count": 13,
   "metadata": {},
   "outputs": [],
   "source": [
    "def sigmoid(Z):\n",
    "    A = 1 / (1 + np.exp(-Z))\n",
    "    cache = Z\n",
    "    return A, cache"
   ]
  },
  {
   "cell_type": "code",
   "execution_count": 14,
   "metadata": {},
   "outputs": [],
   "source": [
    "def tanh(Z):\n",
    "    A = (np.exp(Z) - np.exp(-Z)) / (np.exp(Z) + np.exp(-Z))\n",
    "    cache = Z\n",
    "    return A, cache"
   ]
  },
  {
   "cell_type": "code",
   "execution_count": 15,
   "metadata": {},
   "outputs": [],
   "source": [
    "def relu(Z):\n",
    "    A = np.maximum(0, Z)\n",
    "    cache = Z\n",
    "    return A, cache"
   ]
  },
  {
   "cell_type": "code",
   "execution_count": 16,
   "metadata": {},
   "outputs": [],
   "source": [
    "def relu_backward(dA, cache):\n",
    "    Z = cache\n",
    "    dZ = copy.deepcopy(dA)\n",
    "    dZ[Z <= 0] = 0\n",
    "    return dZ"
   ]
  },
  {
   "cell_type": "code",
   "execution_count": 17,
   "metadata": {},
   "outputs": [],
   "source": [
    "def sigmoid_backward(dA, cache):\n",
    "    Z = cache\n",
    "    A, _ = sigmoid(Z)\n",
    "    dZ = dA * A * (1 - A)\n",
    "    return dZ"
   ]
  },
  {
   "cell_type": "code",
   "execution_count": 18,
   "metadata": {},
   "outputs": [],
   "source": [
    "def tanh_backward(dA, cache):\n",
    "    Z = cache\n",
    "    A, _ = tanh(Z)\n",
    "    dZ = dA * (1 - A**2)\n",
    "    return dZ"
   ]
  },
  {
   "cell_type": "markdown",
   "metadata": {},
   "source": [
    "#### 3.2. Main functions"
   ]
  },
  {
   "cell_type": "markdown",
   "metadata": {},
   "source": [
    "##### 3.2.1. Initialize parameters"
   ]
  },
  {
   "cell_type": "code",
   "execution_count": 19,
   "metadata": {},
   "outputs": [],
   "source": [
    "def initialize_parameters(layers_dims):\n",
    "    ''' \n",
    "    initialize weights and bias for nn\n",
    "    layers_dims: a list of size (quantity of units) of each layers. Example: [5, 4, 3, 2, 1]: 5 -> features X \n",
    "    return: dict of parameters\n",
    "    '''\n",
    "    np.random.seed(52)\n",
    "    parameters = {}\n",
    "    L = len(layers_dims)\n",
    "    for l in range(1, L):\n",
    "        parameters['W' + str(l)] = np.random.randn(layers_dims[l], layers_dims[l-1]) * 0.01\n",
    "        parameters['b' + str(l)] = np.zeros((layers_dims[l], 1))\n",
    "        # degbug\n",
    "        assert(parameters['W' + str(l)].shape == (layers_dims[l], layers_dims[l-1]))\n",
    "        assert(parameters['b' + str(l)].shape == (layers_dims[l], 1))\n",
    "    return parameters"
   ]
  },
  {
   "cell_type": "markdown",
   "metadata": {},
   "source": [
    "##### 3.2.2. Forward Propagation"
   ]
  },
  {
   "cell_type": "code",
   "execution_count": 20,
   "metadata": {},
   "outputs": [],
   "source": [
    "def linear_forward(A_prev, W, b):\n",
    "    Z = W @ A_prev + b \n",
    "    cache = (A_prev, W, b)\n",
    "    return Z, cache"
   ]
  },
  {
   "cell_type": "code",
   "execution_count": 21,
   "metadata": {},
   "outputs": [],
   "source": [
    "def linear_activation_forward(A_prev, W, b, activation):\n",
    "    Z, linear_cache = linear_forward(A_prev, W, b)\n",
    "    if activation == 'relu':\n",
    "        A, activation_cache = relu(Z)\n",
    "    elif activation == 'sigmoid':\n",
    "        A, activation_cache = sigmoid(Z)\n",
    "    elif activation == 'tanh':\n",
    "        A, activation_cache = tanh(Z)\n",
    "        \n",
    "    cache = (linear_cache, activation_cache)\n",
    "    return A, cache"
   ]
  },
  {
   "cell_type": "code",
   "execution_count": 22,
   "metadata": {},
   "outputs": [],
   "source": [
    "def L_model_forward(X, parameters):\n",
    "    caches = []\n",
    "    A_prev = X\n",
    "    L = len(parameters) // 2\n",
    "    for l in range(L - 1): # (linear->relu) * (L-1) -> (linear->sigmoid)\n",
    "        A_prev, cache = linear_activation_forward(A_prev, parameters['W' + str(l+1)], parameters['b' + str(l+1)], activation='relu')\n",
    "        caches.append(cache)\n",
    "    \n",
    "    AL, cache = linear_activation_forward(A_prev, parameters['W' + str(L)], parameters['b' + str(L)], activation='sigmoid')\n",
    "    caches.append(cache)\n",
    "    return AL, caches"
   ]
  },
  {
   "cell_type": "markdown",
   "metadata": {},
   "source": [
    "### 3.2.3. Cost Computation"
   ]
  },
  {
   "cell_type": "code",
   "execution_count": 23,
   "metadata": {},
   "outputs": [],
   "source": [
    "def compute_cost(AL, Y):\n",
    "    m = Y.shape[1]\n",
    "    AL = np.clip(AL, 1e-15, 1 - 1e-15) # avoid equal to 0\n",
    "    cost = (-1/m) * np.sum(Y * np.log(AL) + (1 - Y) * np.log(1 - AL))\n",
    "    cost = np.squeeze(cost)\n",
    "    return cost"
   ]
  },
  {
   "cell_type": "markdown",
   "metadata": {},
   "source": [
    "### 3.2.4. Backward Propagation"
   ]
  },
  {
   "cell_type": "code",
   "execution_count": 24,
   "metadata": {},
   "outputs": [],
   "source": [
    "def linear_backward(dZ, cache):\n",
    "    m = dZ.shape[1]\n",
    "    A_prev, W, b = cache\n",
    "    \n",
    "    dW = (1/m) * (dZ @ A_prev.T)\n",
    "    db = (1/m) * np.sum(dZ, axis=1, keepdims=True)\n",
    "    dA_prev = W.T @ dZ\n",
    "    return dW, db, dA_prev"
   ]
  },
  {
   "cell_type": "code",
   "execution_count": 25,
   "metadata": {},
   "outputs": [],
   "source": [
    "def linear_activation_backward(dA, cache, activation):\n",
    "    (linear_cache, activation_cache) = cache\n",
    "    if activation == 'relu':\n",
    "        dZ = relu_backward(dA, activation_cache)\n",
    "        dW, db, dA_prev = linear_backward(dZ, linear_cache)\n",
    "    elif activation == 'sigmoid':\n",
    "        dZ = sigmoid_backward(dA, activation_cache)\n",
    "        dW, db, dA_prev = linear_backward(dZ, linear_cache)\n",
    "    elif activation == 'tanh':\n",
    "        dZ = tanh_backward(dA, activation_cache)\n",
    "        dW, db, dA_prev = linear_backward(dZ, linear_cache)\n",
    "    return dA_prev, dW, db"
   ]
  },
  {
   "cell_type": "code",
   "execution_count": 30,
   "metadata": {},
   "outputs": [],
   "source": [
    "def L_model_backward(AL, Y, caches):\n",
    "    L = len(caches)\n",
    "    m = Y.shape[1]\n",
    "    Y = Y.reshape(AL.shape)\n",
    "    \n",
    "    dAL = - (np.divide(Y, AL + 1e-8) - np.divide(1 - Y, (1 - AL) + 1e-8))\n",
    "    grads = {}\n",
    "    \n",
    "    dA_prev, dW, db = linear_activation_backward(dAL, caches[L-1], activation='sigmoid')\n",
    "    grads['dW' + str(L)] = dW\n",
    "    grads['db' + str(L)] = db\n",
    "    \n",
    "    for l in reversed(range(L - 1)):\n",
    "        dA_prev, dW, db = linear_activation_backward(dA_prev, caches[l], activation='relu')\n",
    "        grads['dW' + str(l + 1)] = dW\n",
    "        grads['db' + str(l + 1)] = db\n",
    "    return grads\n",
    "    "
   ]
  },
  {
   "cell_type": "markdown",
   "metadata": {},
   "source": [
    "### 3.2.5. Update Parameters"
   ]
  },
  {
   "cell_type": "code",
   "execution_count": 27,
   "metadata": {},
   "outputs": [],
   "source": [
    "def update_parameters(parameters, grads, learning_rate=1e-3):\n",
    "    params = copy.deepcopy(parameters)\n",
    "    L = len(parameters) // 2\n",
    "    for l in range (L):\n",
    "        params[\"W\" + str(l + 1)] -= learning_rate * grads[\"dW\" + str(l + 1)]\n",
    "        params[\"b\" + str(l + 1)] -= learning_rate * grads[\"db\" + str(l + 1)]\n",
    "    return params"
   ]
  },
  {
   "cell_type": "markdown",
   "metadata": {},
   "source": [
    "### 3.3. ANN Model"
   ]
  },
  {
   "cell_type": "code",
   "execution_count": null,
   "metadata": {},
   "outputs": [],
   "source": [
    "def create_mini_batches(X, Y, mini_batch_size):\n",
    "    m = X.shape[1]  \n",
    "    mini_batches = []\n",
    "    \n",
    "    permutation = np.random.permutation(m)\n",
    "    shuffled_X = X[:, permutation]\n",
    "    shuffled_Y = Y[:, permutation]\n",
    "    \n",
    "    num_complete_minibatches = m // mini_batch_size\n",
    "    for k in range(num_complete_minibatches):\n",
    "        mini_batch_X = shuffled_X[:, k * mini_batch_size : (k + 1) * mini_batch_size]\n",
    "        mini_batch_Y = shuffled_Y[:, k * mini_batch_size : (k + 1) * mini_batch_size]\n",
    "        mini_batches.append((mini_batch_X, mini_batch_Y))\n",
    "    \n",
    "    if m % mini_batch_size != 0:\n",
    "        mini_batch_X = shuffled_X[:, num_complete_minibatches * mini_batch_size :]\n",
    "        mini_batch_Y = shuffled_Y[:, num_complete_minibatches * mini_batch_size :]\n",
    "        mini_batches.append((mini_batch_X, mini_batch_Y))\n",
    "    \n",
    "    return mini_batches\n",
    "\n",
    "def L_layer_model(X, Y, layers_dims, learning_rate=0.0075, num_iterations=3000, print_cost=False, decay_rate=0.9, mini_batch_size=128):\n",
    "    costs = []\n",
    "    parameters = initialize_parameters(layers_dims)\n",
    "    \n",
    "    for i in range(num_iterations):\n",
    "        mini_batches = create_mini_batches(X, Y, mini_batch_size)\n",
    "        for mini_batch in mini_batches:\n",
    "            (mini_batch_X, mini_batch_Y) = mini_batch\n",
    "            AL, caches = L_model_forward(mini_batch_X, parameters)\n",
    "            cost = compute_cost(AL, mini_batch_Y)\n",
    "            grads = L_model_backward(AL, mini_batch_Y, caches)\n",
    "            parameters = update_parameters(parameters, grads, learning_rate)\n",
    "            \n",
    "        if i % 100 == 0:\n",
    "            learning_rate *= decay_rate\n",
    "        \n",
    "        if print_cost and (i % 100 == 0 or i == num_iterations - 1):\n",
    "            print(f\"Cost after iteration {i}: {np.squeeze(cost)}\")\n",
    "            costs.append(cost)\n",
    "    \n",
    "    return parameters, costs\n",
    "def predict(X, parameters, threshold=0.5):\n",
    "    AL, caches = L_model_forward(X, parameters)\n",
    "    predictions = (AL > threshold)\n",
    "    return predictions\n",
    "\n",
    "def score(X, y, parameters):\n",
    "    predictions = predict(X, parameters)\n",
    "    accuracy = 100 * np.mean(predictions == y) \n",
    "    return accuracy\n",
    "\n",
    "def plot_costs(costs):\n",
    "    plt.plot(np.squeeze(costs))\n",
    "    plt.ylabel('cost')\n",
    "    plt.xlabel('iteration')\n",
    "    plt.title(\"Cost Plot\")\n",
    "    plt.show()"
   ]
  },
  {
   "cell_type": "markdown",
   "metadata": {},
   "source": [
    "## Training"
   ]
  },
  {
   "cell_type": "code",
   "execution_count": 32,
   "metadata": {},
   "outputs": [
    {
     "name": "stdout",
     "output_type": "stream",
     "text": [
      "Cost after iteration 0: 0.6878578266871258\n",
      "Cost after iteration 100: 0.39381274123048904\n",
      "Cost after iteration 200: 0.5085968212077283\n",
      "Cost after iteration 300: 0.3036148446086908\n",
      "Cost after iteration 400: 0.06484251998648624\n",
      "Cost after iteration 500: 0.0004900815583392972\n"
     ]
    },
    {
     "name": "stderr",
     "output_type": "stream",
     "text": [
      "/var/folders/70/d3kd_ryx2t11f9844q1jv12w0000gn/T/ipykernel_21424/1746190846.py:3: RuntimeWarning: divide by zero encountered in log\n",
      "  cost = (-1/m) * np.sum(Y * np.log(AL) + (1 - Y) * np.log(1 - AL))\n",
      "/var/folders/70/d3kd_ryx2t11f9844q1jv12w0000gn/T/ipykernel_21424/1746190846.py:3: RuntimeWarning: invalid value encountered in multiply\n",
      "  cost = (-1/m) * np.sum(Y * np.log(AL) + (1 - Y) * np.log(1 - AL))\n"
     ]
    },
    {
     "name": "stdout",
     "output_type": "stream",
     "text": [
      "Cost after iteration 600: 1.1270286453267445e-05\n",
      "Cost after iteration 700: 9.805965267997337e-05\n",
      "Cost after iteration 800: 4.567011388407454e-06\n",
      "Cost after iteration 900: nan\n",
      "Cost after iteration 999: nan\n"
     ]
    },
    {
     "data": {
      "image/png": "[encoded data removed]",
      "text/plain": [
       "<Figure size 640x480 with 1 Axes>"
      ]
     },
     "metadata": {},
     "output_type": "display_data"
    }
   ],
   "source": [
    "layers_dims = [X_train.T.shape[0], 512, 256, 16, 1]\n",
    "parameters, costs = L_layer_model(X_train.T[:, :2000], y_train.T[:, :2000], num_iterations=1000, learning_rate=0.1, layers_dims=layers_dims, print_cost=True, decay_rate=0.9, mini_batch_size=64)\n",
    "plot_costs(costs)"
   ]
  },
  {
   "cell_type": "code",
   "execution_count": 36,
   "metadata": {},
   "outputs": [
    {
     "data": {
      "text/plain": [
       "np.float64(100.0)"
      ]
     },
     "execution_count": 36,
     "metadata": {},
     "output_type": "execute_result"
    }
   ],
   "source": [
    "score(X_train.T[:, :2000], y_train.T[:, :2000], parameters)"
   ]
  },
  {
   "cell_type": "code",
   "execution_count": 37,
   "metadata": {},
   "outputs": [
    {
     "data": {
      "text/plain": [
       "np.float64(60.06)"
      ]
     },
     "execution_count": 37,
     "metadata": {},
     "output_type": "execute_result"
    }
   ],
   "source": [
    "score(X_test.T, y_test.T, parameters)\n"
   ]
  },
  {
   "cell_type": "markdown",
   "metadata": {},
   "source": [
    "=> Overfitting: Can resolve by Regulization"
   ]
  }
 ],
 "metadata": {
  "kernelspec": {
   "display_name": "py3.10.venv",
   "language": "python",
   "name": "python3"
  },
  "language_info": {
   "codemirror_mode": {
    "name": "ipython",
    "version": 3
   },
   "file_extension": ".py",
   "mimetype": "text/x-python",
   "name": "python",
   "nbconvert_exporter": "python",
   "pygments_lexer": "ipython3",
   "version": "3.10.16"
  }
 },
 "nbformat": 4,
 "nbformat_minor": 2
}
