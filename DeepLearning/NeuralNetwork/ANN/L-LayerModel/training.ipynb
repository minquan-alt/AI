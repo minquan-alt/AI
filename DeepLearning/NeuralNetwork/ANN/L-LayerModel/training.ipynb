{
 "cells": [
  {
   "cell_type": "markdown",
   "id": "319b85a2-0203-4955-83d3-cdc80af05904",
   "metadata": {},
   "source": [
    "# Cat or Non-Cat Classification\n",
    "<sub><i>L-Layer Deep Neural Network (step by step) </i></sub>"
   ]
  },
  {
   "cell_type": "markdown",
   "id": "b313ca93",
   "metadata": {},
   "source": [
    "## 1. Packages"
   ]
  },
  {
   "cell_type": "code",
   "execution_count": 49,
   "id": "cee67805",
   "metadata": {},
   "outputs": [],
   "source": [
    "import numpy as np\n",
    "import matplotlib.pyplot as plt\n",
    "from PIL import Image\n",
    "import copy\n",
    "import h5py\n",
    "import numpy as np\n",
    "import os"
   ]
  },
  {
   "cell_type": "markdown",
   "id": "e79c1d81",
   "metadata": {},
   "source": [
    "## 2. Helper functions"
   ]
  },
  {
   "cell_type": "markdown",
   "id": "db9d110d",
   "metadata": {},
   "source": [
    "### 2.1. Forward Functions"
   ]
  },
  {
   "cell_type": "markdown",
   "id": "6e2eb274",
   "metadata": {},
   "source": [
    "#### 2.1.1. Sigmoid Activation Function \n",
    "<img src=\"../../../img/sigmoid-activation-function.png\" width=\"300\">"
   ]
  },
  {
   "cell_type": "code",
   "execution_count": 50,
   "id": "c564237f",
   "metadata": {},
   "outputs": [],
   "source": [
    "def sigmoid(Z):\n",
    "    A = 1 / (1 + np.exp(-Z))\n",
    "    cache = Z\n",
    "    return A, cache"
   ]
  },
  {
   "cell_type": "markdown",
   "id": "a74dcd6d",
   "metadata": {},
   "source": [
    "#### 2.1.2. Tanh Activation Function \n",
    "<img src=\"../../../img/tanh-activation-function.jpg\" width=\"300\">"
   ]
  },
  {
   "cell_type": "code",
   "execution_count": 51,
   "id": "57ef99ca",
   "metadata": {},
   "outputs": [],
   "source": [
    "def tanh(Z):\n",
    "    A = (np.exp(Z) - np.exp(-Z)) / (np.exp(Z) + np.exp(-Z))\n",
    "    cache = Z\n",
    "    return A, cache"
   ]
  },
  {
   "cell_type": "markdown",
   "id": "5586b9a7",
   "metadata": {},
   "source": [
    "#### 2.1.3. Relu Activation Function \n",
    "<img src=\"../../../img/relu-activation-function.png\" width=\"300\">"
   ]
  },
  {
   "cell_type": "code",
   "execution_count": 52,
   "id": "025a0eb3",
   "metadata": {},
   "outputs": [],
   "source": [
    "def relu(Z):\n",
    "    A = np.maximum(0, Z)\n",
    "    cache = Z\n",
    "    return A, cache"
   ]
  },
  {
   "cell_type": "markdown",
   "id": "70e3b5ea",
   "metadata": {},
   "source": [
    "### 2.2 Backward Function"
   ]
  },
  {
   "cell_type": "markdown",
   "id": "83b60b0c",
   "metadata": {},
   "source": [
    "#### 2.2.1. Relu Backward Function"
   ]
  },
  {
   "cell_type": "code",
   "execution_count": 53,
   "id": "4498c1a0",
   "metadata": {},
   "outputs": [],
   "source": [
    "def relu_backward(dA, cache):\n",
    "    Z = cache\n",
    "    dZ = copy.deepcopy(dA)\n",
    "    dZ[Z <= 0] = 0\n",
    "    return dZ"
   ]
  },
  {
   "cell_type": "markdown",
   "id": "18fa9337",
   "metadata": {},
   "source": [
    "#### 2.2.2. Sigmoid Backward Function"
   ]
  },
  {
   "cell_type": "code",
   "execution_count": 54,
   "id": "aa7e843e",
   "metadata": {},
   "outputs": [],
   "source": [
    "def sigmoid_backward(dA, cache):\n",
    "    Z = cache\n",
    "    A, _ = sigmoid(Z)\n",
    "    dZ = dA * A * (1 - A)\n",
    "    return dZ"
   ]
  },
  {
   "cell_type": "markdown",
   "id": "099b14ad",
   "metadata": {},
   "source": [
    "#### 2.2.3. Tanh Backward Function"
   ]
  },
  {
   "cell_type": "code",
   "execution_count": 55,
   "id": "a170ad39",
   "metadata": {},
   "outputs": [],
   "source": [
    "def tanh_backward(dA, cache):\n",
    "    Z = cache\n",
    "    A, _ = tanh(Z)\n",
    "    dZ = dA * (1 - A**2)\n",
    "    return dZ"
   ]
  },
  {
   "cell_type": "markdown",
   "id": "342374e4",
   "metadata": {},
   "source": [
    "## 3. Main functions"
   ]
  },
  {
   "cell_type": "markdown",
   "id": "4079a55c",
   "metadata": {},
   "source": [
    "### 3.1. Initialize parameters"
   ]
  },
  {
   "cell_type": "code",
   "execution_count": 56,
   "id": "aee32607",
   "metadata": {},
   "outputs": [],
   "source": [
    "def initialize_parameters(layers_dims):\n",
    "    ''' \n",
    "    initialize weights and bias for nn\n",
    "    layers_dims: a list of size (quantity of units) of each layers. Example: [5, 4, 3, 2, 1]: 5 -> features X \n",
    "    return: dict of parameters\n",
    "    '''\n",
    "    np.random.seed(52)\n",
    "    parameters = {}\n",
    "    L = len(layers_dims)\n",
    "    for l in range(1, L):\n",
    "        parameters['W' + str(l)] = np.random.randn(layers_dims[l], layers_dims[l-1]) * 0.01\n",
    "        parameters['b' + str(l)] = np.zeros((layers_dims[l], 1))\n",
    "        # degbug\n",
    "        assert(parameters['W' + str(l)].shape == (layers_dims[l], layers_dims[l-1]))\n",
    "        assert(parameters['b' + str(l)].shape == (layers_dims[l], 1))\n",
    "    return parameters"
   ]
  },
  {
   "cell_type": "markdown",
   "id": "802a82fb",
   "metadata": {},
   "source": [
    "### 3.2. Forward Propagation"
   ]
  },
  {
   "cell_type": "markdown",
   "id": "ba3cc392",
   "metadata": {},
   "source": [
    "#### 3.2.1. Linear Forward"
   ]
  },
  {
   "cell_type": "code",
   "execution_count": 57,
   "id": "412867a9",
   "metadata": {},
   "outputs": [],
   "source": [
    "def linear_forward(A_prev, W, b):\n",
    "    Z = W @ A_prev + b \n",
    "    cache = (A_prev, W, b)\n",
    "    return Z, cache"
   ]
  },
  {
   "cell_type": "markdown",
   "id": "4cabf723",
   "metadata": {},
   "source": [
    "#### 3.2.2. Linear Activation Forward"
   ]
  },
  {
   "cell_type": "code",
   "execution_count": 58,
   "id": "63eb500e",
   "metadata": {},
   "outputs": [],
   "source": [
    "def linear_activation_forward(A_prev, W, b, activation):\n",
    "    Z, linear_cache = linear_forward(A_prev, W, b)\n",
    "    if activation == 'relu':\n",
    "        A, activation_cache = relu(Z)\n",
    "    elif activation == 'sigmoid':\n",
    "        A, activation_cache = sigmoid(Z)\n",
    "    elif activation == 'tanh':\n",
    "        A, activation_cache = tanh(Z)\n",
    "        \n",
    "    cache = (linear_cache, activation_cache)\n",
    "    return A, cache"
   ]
  },
  {
   "cell_type": "markdown",
   "id": "8e5ce77b",
   "metadata": {},
   "source": [
    "#### 3.2.3. L-model Forward"
   ]
  },
  {
   "cell_type": "code",
   "execution_count": 82,
   "id": "b28523f2",
   "metadata": {},
   "outputs": [],
   "source": [
    "def L_model_forward(X, parameters):\n",
    "    caches = []\n",
    "    A_prev = X\n",
    "    L = len(parameters) // 2\n",
    "    for l in range(L - 1): # (linear->relu) * (L-1) -> (linear->sigmoid)\n",
    "        A_prev, cache = linear_activation_forward(A_prev, parameters['W' + str(l+1)], parameters['b' + str(l+1)], activation='relu')\n",
    "        caches.append(cache)\n",
    "    \n",
    "    AL, cache = linear_activation_forward(A_prev, parameters['W' + str(L)], parameters['b' + str(L)], activation='sigmoid')\n",
    "    caches.append(cache)\n",
    "    return AL, caches"
   ]
  },
  {
   "cell_type": "markdown",
   "id": "6312867d",
   "metadata": {},
   "source": [
    "### 3.3. Cost Computation"
   ]
  },
  {
   "cell_type": "code",
   "execution_count": 60,
   "id": "33da3cdf",
   "metadata": {},
   "outputs": [],
   "source": [
    "def compute_cost(AL, Y):\n",
    "    m = Y.shape[1]\n",
    "    cost = (-1/m) * np.sum(Y * np.log(AL) + (1 - Y) * np.log(1 - AL))\n",
    "    cost = np.squeeze(cost)\n",
    "    return cost"
   ]
  },
  {
   "cell_type": "markdown",
   "id": "69085c63",
   "metadata": {},
   "source": [
    "### 3.4. Backward Propagation"
   ]
  },
  {
   "cell_type": "markdown",
   "id": "25dbc295",
   "metadata": {},
   "source": [
    "#### 3.4.1. Linear Backward"
   ]
  },
  {
   "cell_type": "code",
   "execution_count": 61,
   "id": "ae47c08d",
   "metadata": {},
   "outputs": [],
   "source": [
    "def linear_backward(dZ, cache):\n",
    "    m = dZ.shape[1]\n",
    "    A_prev, W, b = cache\n",
    "    \n",
    "    dW = (1/m) * (dZ @ A_prev.T)\n",
    "    db = (1/m) * np.sum(dZ, axis=1, keepdims=True)\n",
    "    dA_prev = W.T @ dZ\n",
    "    return dW, db, dA_prev"
   ]
  },
  {
   "cell_type": "markdown",
   "id": "aab89417",
   "metadata": {},
   "source": [
    "#### 3.4.2. Linear Activation Backward"
   ]
  },
  {
   "cell_type": "code",
   "execution_count": 62,
   "id": "c9064d2b",
   "metadata": {},
   "outputs": [],
   "source": [
    "def linear_activation_backward(dA, cache, activation):\n",
    "    (linear_cache, activation_cache) = cache\n",
    "    if activation == 'relu':\n",
    "        dZ = relu_backward(dA, activation_cache)\n",
    "        dW, db, dA_prev = linear_backward(dZ, linear_cache)\n",
    "    elif activation == 'sigmoid':\n",
    "        dZ = sigmoid_backward(dA, activation_cache)\n",
    "        dW, db, dA_prev = linear_backward(dZ, linear_cache)\n",
    "    elif activation == 'tanh':\n",
    "        dZ = tanh_backward(dA, activation_cache)\n",
    "        dW, db, dA_prev = linear_backward(dZ, linear_cache)\n",
    "    return dA_prev, dW, db"
   ]
  },
  {
   "cell_type": "markdown",
   "id": "0e8afa97",
   "metadata": {},
   "source": [
    "#### 3.4.3. L-model Backward"
   ]
  },
  {
   "cell_type": "code",
   "execution_count": 84,
   "id": "45f3ffee",
   "metadata": {},
   "outputs": [],
   "source": [
    "def L_model_backward(AL, Y, caches):\n",
    "    L = len(caches)\n",
    "    m = Y.shape[1]\n",
    "    Y = Y.reshape(AL.shape)\n",
    "    \n",
    "    dAL = - (np.divide(Y, AL) - np.divide(1 - Y, 1 - AL))\n",
    "    grads = {}\n",
    "    \n",
    "    dA_prev, dW, db = linear_activation_backward(dAL, caches[L-1], activation='sigmoid')\n",
    "    grads['dW' + str(L)] = dW\n",
    "    grads['db' + str(L)] = db\n",
    "    \n",
    "    for l in reversed(range(L - 1)):\n",
    "        dA_prev, dW, db = linear_activation_backward(dA_prev, caches[l], activation='relu')\n",
    "        grads['dW' + str(l + 1)] = dW\n",
    "        grads['db' + str(l + 1)] = db\n",
    "    return grads\n",
    "    "
   ]
  },
  {
   "cell_type": "markdown",
   "id": "c1744c6b",
   "metadata": {},
   "source": [
    "### 3.5. Update Parameters"
   ]
  },
  {
   "cell_type": "code",
   "execution_count": 64,
   "id": "9314e8d7",
   "metadata": {},
   "outputs": [],
   "source": [
    "def update_parameters(parameters, grads, learning_rate=1e-3):\n",
    "    params = copy.deepcopy(parameters)\n",
    "    L = len(parameters) // 2\n",
    "    for l in range (L):\n",
    "        params[\"W\" + str(l + 1)] -= learning_rate * grads[\"dW\" + str(l + 1)]\n",
    "        params[\"b\" + str(l + 1)] -= learning_rate * grads[\"db\" + str(l + 1)]\n",
    "    return params"
   ]
  },
  {
   "cell_type": "markdown",
   "id": "6419f019",
   "metadata": {},
   "source": [
    "## 4. Load & Process Data"
   ]
  },
  {
   "cell_type": "markdown",
   "id": "e01bc6a6",
   "metadata": {},
   "source": [
    "### 4.1. Load Datatset"
   ]
  },
  {
   "cell_type": "code",
   "execution_count": 65,
   "id": "35682f38",
   "metadata": {},
   "outputs": [
    {
     "data": {
      "text/plain": [
       "'/Users/minhquang/Documents/Learning/AI/DeepLearning/NeuralNetwork/ANN/cat_or_noncat'"
      ]
     },
     "execution_count": 65,
     "metadata": {},
     "output_type": "execute_result"
    }
   ],
   "source": [
    "os.getcwd()"
   ]
  },
  {
   "cell_type": "code",
   "execution_count": 66,
   "id": "e412ea45",
   "metadata": {},
   "outputs": [],
   "source": [
    "# Relative path\n",
    "train_file = '../../../../data/catvnoncat/train_catvnoncat.h5'\n",
    "test_file = '../../../../data/catvnoncat/test_catvnoncat.h5'\n",
    "\n",
    "# load train dataset\n",
    "with h5py.File(train_file, 'r') as train_data:\n",
    "    X_train_orig = np.array(train_data[\"train_set_x\"][:])\n",
    "    y_train = np.array(train_data[\"train_set_y\"][:])\n",
    "\n",
    "with h5py.File(test_file, 'r') as test_data:\n",
    "    X_test_orig = np.array(test_data[\"test_set_x\"][:])\n",
    "    y_test = np.array(test_data[\"test_set_y\"][:])"
   ]
  },
  {
   "cell_type": "code",
   "execution_count": 67,
   "id": "f987e814",
   "metadata": {},
   "outputs": [
    {
     "name": "stdout",
     "output_type": "stream",
     "text": [
      "X_shape: (209, 64, 64, 3)\n",
      "y_shape: (209,)\n"
     ]
    },
    {
     "data": {
      "image/png": "[encoded data removed]",
      "text/plain": [
       "<Figure size 640x480 with 1 Axes>"
      ]
     },
     "metadata": {},
     "output_type": "display_data"
    }
   ],
   "source": [
    "plt.imshow(X_train_orig[50])\n",
    "print('X_shape:' ,X_train_orig.shape)\n",
    "print('y_shape:',y_train.shape)"
   ]
  },
  {
   "cell_type": "markdown",
   "id": "bef376f2",
   "metadata": {},
   "source": [
    "### 4.1.2. Process data"
   ]
  },
  {
   "cell_type": "code",
   "execution_count": 68,
   "id": "68b65f1a",
   "metadata": {},
   "outputs": [],
   "source": [
    "# normalize the data\n",
    "X_train_standard = X_train_orig / 255.\n",
    "X_test_standard = X_test_orig / 255. \n",
    "# flatten the data\n",
    "X_train_flatten = X_train_standard.reshape(X_train_standard.shape[0], -1)\n",
    "X_test_flatten = X_test_standard.reshape(X_test_standard.shape[0], -1)"
   ]
  },
  {
   "cell_type": "code",
   "execution_count": 69,
   "id": "babb8622",
   "metadata": {},
   "outputs": [
    {
     "name": "stdout",
     "output_type": "stream",
     "text": [
      "X_train_flatten.shape: (209, 12288)\n",
      "X_test_flatten.shape: (50, 12288)\n",
      "y_train: (209,)\n",
      "y_test: (50,)\n"
     ]
    }
   ],
   "source": [
    "print('X_train_flatten.shape:',X_train_flatten.shape)\n",
    "print('X_test_flatten.shape:',X_test_flatten.shape)\n",
    "print('y_train:', y_train.shape)\n",
    "print('y_test:', y_test.shape)"
   ]
  },
  {
   "cell_type": "code",
   "execution_count": 70,
   "id": "198acc9e",
   "metadata": {},
   "outputs": [],
   "source": [
    "# reshape data to apply to model (nX features, m examples)\n",
    "X_train = X_train_flatten.T\n",
    "X_test = X_test_flatten.T\n",
    "\n",
    "y_train = y_train.reshape(-1, 1).T \n",
    "y_test = y_test.reshape(-1, 1).T"
   ]
  },
  {
   "cell_type": "code",
   "execution_count": 71,
   "id": "42260876",
   "metadata": {},
   "outputs": [
    {
     "name": "stdout",
     "output_type": "stream",
     "text": [
      "X_train.shape: (12288, 209)\n",
      "X_test.shape: (12288, 50)\n",
      "y_train: (1, 209)\n",
      "y_test: (1, 50)\n"
     ]
    }
   ],
   "source": [
    "print('X_train.shape:',X_train.shape)\n",
    "print('X_test.shape:',X_test.shape)\n",
    "print('y_train:', y_train.shape)\n",
    "print('y_test:', y_test.shape)"
   ]
  },
  {
   "cell_type": "markdown",
   "id": "6b77255d",
   "metadata": {},
   "source": [
    "## 5. Deep Neural Network Model"
   ]
  },
  {
   "cell_type": "code",
   "execution_count": 106,
   "id": "b091e3de",
   "metadata": {},
   "outputs": [],
   "source": [
    "def L_layer_model(X, Y, layers_dims, learning_rate = 0.0075, num_iterations = 3000, print_cost=False, decay_rate=0.9):\n",
    "    costs = []\n",
    "    parameters = initialize_parameters(layers_dims)\n",
    "    for i in range(num_iterations):\n",
    "        AL, caches = L_model_forward(X, parameters)\n",
    "        cost = compute_cost(AL, Y)\n",
    "        grads = L_model_backward(AL, Y, caches)\n",
    "        parameters = update_parameters(parameters, grads, learning_rate)\n",
    "        if i % 100 == 0:\n",
    "            learning_rate *= decay_rate\n",
    "        \n",
    "        if print_cost and (i % 100 == 0 or i == num_iterations - 1):\n",
    "            print(f\"Cost after iteration {i}: {np.squeeze(cost)}\")\n",
    "            costs.append(cost)\n",
    "    \n",
    "    return parameters, costs\n",
    "def predict(X, parameters, threshold=0.5):\n",
    "    AL, caches = L_model_forward(X, parameters)\n",
    "    predictions = (AL > threshold)\n",
    "    return predictions\n",
    "\n",
    "def score(X, y, parameters):\n",
    "    predictions = predict(X, parameters)\n",
    "    accuracy = 100 * np.mean(predictions == y) \n",
    "    return accuracy\n",
    "\n",
    "def plot_costs(costs):\n",
    "    plt.plot(np.squeeze(costs))\n",
    "    plt.ylabel('cost')\n",
    "    plt.xlabel('iteration')\n",
    "    plt.title(\"Cost Plot\")\n",
    "    plt.show()"
   ]
  },
  {
   "cell_type": "markdown",
   "id": "6aa556b6",
   "metadata": {},
   "source": [
    "## Training"
   ]
  },
  {
   "cell_type": "code",
   "execution_count": 107,
   "id": "f200ccee",
   "metadata": {},
   "outputs": [
    {
     "name": "stdout",
     "output_type": "stream",
     "text": [
      "Cost after iteration 0: 0.6931470065008584\n",
      "Cost after iteration 100: 0.6439736717222666\n",
      "Cost after iteration 200: 0.6439736336193397\n",
      "Cost after iteration 300: 0.6439735702225692\n",
      "Cost after iteration 400: 0.6439734671631192\n",
      "Cost after iteration 500: 0.6439733271264404\n",
      "Cost after iteration 600: 0.6439731245355588\n",
      "Cost after iteration 700: 0.6439728311705883\n",
      "Cost after iteration 800: 0.6439723898200833\n",
      "Cost after iteration 900: 0.6439716837317581\n",
      "Cost after iteration 999: 0.6439705294006087\n"
     ]
    },
    {
     "ename": "TypeError",
     "evalue": "plot_costs() got an unexpected keyword argument 'learning_rate'",
     "output_type": "error",
     "traceback": [
      "\u001b[0;31m---------------------------------------------------------------------------\u001b[0m",
      "\u001b[0;31mTypeError\u001b[0m                                 Traceback (most recent call last)",
      "Cell \u001b[0;32mIn[107], line 3\u001b[0m\n\u001b[1;32m      1\u001b[0m layers_dims \u001b[38;5;241m=\u001b[39m [X_train\u001b[38;5;241m.\u001b[39mshape[\u001b[38;5;241m0\u001b[39m], \u001b[38;5;241m128\u001b[39m, \u001b[38;5;241m64\u001b[39m, \u001b[38;5;241m32\u001b[39m, \u001b[38;5;241m16\u001b[39m, \u001b[38;5;241m1\u001b[39m]\n\u001b[1;32m      2\u001b[0m parameters, costs \u001b[38;5;241m=\u001b[39m L_layer_model(X_train, y_train, num_iterations\u001b[38;5;241m=\u001b[39m\u001b[38;5;241m1000\u001b[39m, learning_rate\u001b[38;5;241m=\u001b[39m\u001b[38;5;241m5\u001b[39m, layers_dims\u001b[38;5;241m=\u001b[39mlayers_dims, print_cost\u001b[38;5;241m=\u001b[39m\u001b[38;5;28;01mTrue\u001b[39;00m, decay_rate\u001b[38;5;241m=\u001b[39m\u001b[38;5;241m0.9\u001b[39m)\n\u001b[0;32m----> 3\u001b[0m \u001b[43mplot_costs\u001b[49m\u001b[43m(\u001b[49m\u001b[43mcosts\u001b[49m\u001b[43m,\u001b[49m\u001b[43m \u001b[49m\u001b[43mlearning_rate\u001b[49m\u001b[38;5;241;43m=\u001b[39;49m\u001b[38;5;241;43m0.1\u001b[39;49m\u001b[43m)\u001b[49m\n",
      "\u001b[0;31mTypeError\u001b[0m: plot_costs() got an unexpected keyword argument 'learning_rate'"
     ]
    }
   ],
   "source": [
    "layers_dims = [X_train.shape[0], 128, 64, 32, 16, 1]\n",
    "parameters, costs = L_layer_model(X_train, y_train, num_iterations=1000, learning_rate=5, layers_dims=layers_dims, print_cost=True, decay_rate=0.9)\n",
    "plot_costs(costs, learning_rate=0.1)"
   ]
  },
  {
   "cell_type": "code",
   "execution_count": 104,
   "id": "e5476dd3",
   "metadata": {},
   "outputs": [
    {
     "data": {
      "text/plain": [
       "np.float64(65.55023923444976)"
      ]
     },
     "execution_count": 104,
     "metadata": {},
     "output_type": "execute_result"
    }
   ],
   "source": [
    "score(X_train, y_train, parameters)"
   ]
  }
 ],
 "metadata": {
  "kernelspec": {
   "display_name": "py3.10.venv",
   "language": "python",
   "name": "python3"
  },
  "language_info": {
   "codemirror_mode": {
    "name": "ipython",
    "version": 3
   },
   "file_extension": ".py",
   "mimetype": "text/x-python",
   "name": "python",
   "nbconvert_exporter": "python",
   "pygments_lexer": "ipython3",
   "version": "3.10.16"
  }
 },
 "nbformat": 4,
 "nbformat_minor": 5
}
