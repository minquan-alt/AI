{
 "cells": [
  {
   "cell_type": "markdown",
   "id": "cb5f7712-ddc3-480f-b051-db608620958b",
   "metadata": {},
   "source": [
    "<h1>Bug lòi lồn</h1>"
   ]
  },
  {
   "cell_type": "code",
   "execution_count": 17,
   "id": "d7c417db-fda0-4e4d-9cfa-5813522f90b7",
   "metadata": {},
   "outputs": [],
   "source": [
    "import numpy as np\n",
    "import matplotlib.pyplot as plt\n",
    "import pandas as pd\n",
    "import time"
   ]
  },
  {
   "cell_type": "markdown",
   "id": "d3f2f56f-10c6-4ace-b4e2-dc4fa247b07e",
   "metadata": {},
   "source": [
    "# K-Nearest Neighbors"
   ]
  },
  {
   "cell_type": "markdown",
   "id": "b89e4332-6bf8-4342-b811-ca5728ebcbf7",
   "metadata": {},
   "source": [
    "<b><i>Definition:</b></i> \n",
    "- K-Nearest Neighbors(KNN) is a supervised machine learning methods to tackle the problems related to classification\n",
    "and regression problems\n",
    "- It is a widely used in real life since it has no non-parametric.\n",
    "- It does not require assumption about the underlying data distribution"
   ]
  },
  {
   "cell_type": "markdown",
   "id": "6b2ec085-b805-48b4-a8e4-046bf1aa8f1b",
   "metadata": {},
   "source": [
    "<img src=\"https://media.geeksforgeeks.org/wp-content/uploads/20200616145419/Untitled2781.png\" alt=\"\">"
   ]
  },
  {
   "cell_type": "markdown",
   "id": "942ac1fa-effd-4a7d-9b35-f67794551ffd",
   "metadata": {},
   "source": [
    "<b><i>Intuition behind KNN</b></i>:\n",
    "- We have a set of data points as a training data\n",
    "- After plotting them, we can have some groups or clusters\n",
    "- Input an unclassified point, we can assign it to a group by observing what group its nearest neighbors belong to."
   ]
  },
  {
   "cell_type": "markdown",
   "id": "b05255d2-9848-4365-9258-965c9c3f47aa",
   "metadata": {},
   "source": [
    "<b><i>How KNN work</b></i>\n",
    "\n",
    "- Add a unclassified point\n",
    "- Finding K nearest neighbors based on a distance metric such as Euclidean distance\n",
    "- Then, the class or the value of data point is then detemined by the majority vote or average of the K neighbors"
   ]
  },
  {
   "cell_type": "markdown",
   "id": "815750ac-a344-4222-916a-400c4cce2e61",
   "metadata": {},
   "source": [
    "<b>I. Find Distance</b>"
   ]
  },
  {
   "cell_type": "markdown",
   "id": "56974129-fea2-4388-803e-420604c4738b",
   "metadata": {},
   "source": [
    "1. <b><i>Euclidean Distance</b></i>\n",
    "<img src=\"euclidean.png\" alt=\"\">"
   ]
  },
  {
   "cell_type": "code",
   "execution_count": 3,
   "id": "9de40ba3-1840-4f78-a3c0-f926f36d335a",
   "metadata": {},
   "outputs": [],
   "source": [
    "def euclideanDistance(x, X):\n",
    "    return np.linalg.norm(x - X)"
   ]
  },
  {
   "cell_type": "markdown",
   "id": "8ca2ecfb-147a-4f7b-8b5c-18cbc4e451a3",
   "metadata": {},
   "source": [
    "2. <b><i>Manhattan Distance</b></i>\n",
    "<img src=\"manhattan.png\" alt=\"\">"
   ]
  },
  {
   "cell_type": "code",
   "execution_count": 4,
   "id": "0e3e4740-d13c-472d-8b8b-44efc9e5b6a4",
   "metadata": {},
   "outputs": [],
   "source": [
    "def manhattanDistance(x, X):\n",
    "    return np.sum([np.abs(x[i] - X[i]) for i in range(len(x))])"
   ]
  },
  {
   "cell_type": "markdown",
   "id": "182a9056-b4c9-4478-87a2-9a938cac1f98",
   "metadata": {},
   "source": [
    "3. <b><i>Minkowski Distance</b></i>\n",
    "<img src=\"minkowski.png\" alt=\"\">\n",
    "  - Minkowski distance is a general and the most common while dealing with Machine Learning( p = 2 : Euclidean, p = 1: Manhattan)\n",
    "  - Some other distance metrics is as well like <u>Hamming Distance</u> dealed with overlapping comparision between two vectors whose contents can be Boolean as well as string values."
   ]
  },
  {
   "cell_type": "code",
   "execution_count": 5,
   "id": "349ef867-4c2d-41c3-adf1-c8736da202b9",
   "metadata": {},
   "outputs": [],
   "source": [
    "def minkowskiDistance(x, X, p):\n",
    "    return np.around(np.pow(np.sum([np.pow(x[i] - X[i], p) for i in range(len(x))]) , 1/p), 2)"
   ]
  },
  {
   "cell_type": "markdown",
   "id": "fc5d2dc1-6e51-4d82-9d98-deb4c0af8448",
   "metadata": {},
   "source": [
    "II. <i><b>How to choose the value of k for KNN</b></i>\n",
    "- Choosing the optimal k is crucial to define the number of neighbors, if the input data has more outliers or noise, a higher value of k would be better.\n",
    "- Here the few steps for selecting optimal value of n neighbors in KNN:\n",
    "    - <b>Define a Range</b>: Set a range for k, like 1 to 20.\n",
    "    - <b>Data Split</b>: Segment your dataset into training and testing sets to gauge model generalization.\n",
    "    - <b>Choose Metric</b>: Opt for a performance metric (e.g., accuracy, precision, recall) aligned with your goal.\n",
    "    - <b>Cross-Validation Setup</b>: Employ cross-validation, like k-fold, to robustly evaluate each k value.\n",
    "    - <b>Grid Search</b>: Execute a grid search, testing k across the defined range.\n",
    "    - <b>Evaluate Performance</b>: Compute performance metrics for each k through cross-validation, aiding the identification of the optimal value.\n",
    "    - <b>Visualize Findings</b>: Craft visualizations (line plots, bar charts) to depict the correlation between k and the chosen performance metric.\n",
    "    - <b>Fine-Tune if Needed</b>: If initial results hint at a promising range, narrow it down for finer optimization.\n",
    "    - <b>Select Optimal k</b>: Choose the k value balancing accuracy and simplicity, informed by evaluation and visualization.\n",
    "    - <b>Test on New Data</b>: Validate the chosen k value on a test set to ensure efficacy in predicting new, unseen data."
   ]
  },
  {
   "cell_type": "markdown",
   "id": "8a2501bb-562a-491f-ac22-aef7e50bc24a",
   "metadata": {},
   "source": [
    "<i><b>K Fold Cross Validation</b></i>\n",
    "- Def: Cross validation is a technique used in machine learning to evaluate the performance of a model on unseen data\n",
    "- Used for: The main purpose of cross validation is to prevent overfitting, which occurs when a model is trained too well on the training data and performs poorly on new, unseen data. By evaluating the model on multiple validation sets, cross validation provides a more realistic estimate of the model’s generalization performance, i.e., its ability to perform well on new, unseen data.\n",
    "- Intuition:\n",
    "  - Spliting the dataset into k number of subsets(folds) - * NOTE: k = 5 or k = 10 to avoid overfitting or be the same as LOOCV method.\n",
    "  - Training all subsets and leave one(k - 1) for testing data.\n",
    "  - Iterate above step k times"
   ]
  },
  {
   "cell_type": "markdown",
   "id": "b4cc98d6-0301-4951-8f89-45094bb08fce",
   "metadata": {},
   "source": [
    "<h4>KNN Algorithm - code function</h4>"
   ]
  },
  {
   "cell_type": "code",
   "execution_count": 19,
   "id": "693eaa35-b3ee-4719-8e85-27ff7f016e13",
   "metadata": {},
   "outputs": [],
   "source": [
    "def knn_predict(X_train, y_train, X_test, k):\n",
    "    '''\n",
    "    KNN Algorithm:\n",
    "    1. Selecting suitable k -> representing the k nearest neighbors for predicting\n",
    "    2. Calculating distance: use euclideanDistance() to measure the similarity between target\n",
    "    and training data points\n",
    "    3. Finding nearest neigbors: the k data points with smallest distance to the target \n",
    "    points\n",
    "    4. Voting for Classification: In k data points, the class label of KNN is detemined by\n",
    "    majority voting. For example: k = 5, label(0): 1 point }\n",
    "                                                           }-> label(1) is the class of KNN\n",
    "                                         label(1): 4 point }\n",
    "    '''\n",
    "    predictions = []\n",
    "    for test_point in X_test:\n",
    "        distances = []\n",
    "        for index, train_point in enumerate(X_train):\n",
    "            distances.append([index, euclideanDistance(train_point, test_point)])\n",
    "        distances = sorted(distances, key=lambda x:x[1])\n",
    "        # freq0 = 0\n",
    "        # freq1 = 0\n",
    "        # for d in distances[:k]:\n",
    "        #     if y_train[d[0]] == 0:\n",
    "        #         freq0+=1\n",
    "        #     elif y_train[d[0]] == 1:\n",
    "        #         freq1+=1\n",
    "    \n",
    "        label_nearest_neighbors = [y_train[d[0]] for d in distances[:k]]\n",
    "        labels, counts = np.unique(label_nearest_neighbors, return_counts=True)\n",
    "        \n",
    "        max_count = np.max(counts)\n",
    "        max_labels = [labels[i] for i, count in enumerate(counts) if count == max_count]\n",
    "        \n",
    "        if len(max_labels) > 1:\n",
    "            # Chọn ngẫu nhiên giữa các nhãn có tần suất bằng nhau\n",
    "            predictions.append(np.random.choice(max_labels))\n",
    "        else:\n",
    "            predictions.append(max_labels[0])\n",
    "    return predictions"
   ]
  },
  {
   "cell_type": "markdown",
   "id": "88b940f8-f039-4958-90db-bdeeb2ed3279",
   "metadata": {},
   "source": [
    "<h4>K fold cross validation - code function</h4>"
   ]
  },
  {
   "cell_type": "code",
   "execution_count": 20,
   "id": "32354e95-e414-477e-b44c-203dd3483d8f",
   "metadata": {},
   "outputs": [],
   "source": [
    "def k_fold_cross_validation(X, y, k_folds, k_neighbors):\n",
    "    '''\n",
    "    Use training data to evaluate k_neighbors\n",
    "    Steps:\n",
    "    1. Taking the fold size \n",
    "    2. Using for loops to iterate each fold as testing data and the remaining folds is for training data\n",
    "    3. After split data, use X_train, y_train, X_test for knn_predict (built above) to take predictions\n",
    "    4. Comparing predictions to y_test to take the accuracy and add to an array\n",
    "    (*Note: I choose accuracy metric to evaluate model, we can use the others like precision or recall metric)\n",
    "    5. When completing the loop, the mean of array is the estimator performance\n",
    "    '''\n",
    "    fold_size = len(X) // k_folds\n",
    "    accuracies = []\n",
    "    for i in range(k_folds):\n",
    "        X_train = np.concatenate((X[: i * fold_size], X[(i + 1) * fold_size:]))\n",
    "        y_train = np.concatenate((y[: i * fold_size], y[(i + 1) * fold_size:]))\n",
    "        X_test = X[i * fold_size: (i + 1) * fold_size]\n",
    "        y_test = y[i * fold_size: (i + 1) * fold_size]\n",
    "        predictions = knn_predict(X_train, y_train, X_test, k_neighbors)\n",
    "        numberOfTruePredictions = np.sum([1 if predictions[j] == y_test[j] else 0 for j in range(fold_size)])\n",
    "        accuracies.append(numberOfTruePredictions / len(predictions))\n",
    "    return np.mean(accuracies)"
   ]
  },
  {
   "cell_type": "markdown",
   "id": "5aa04d6c-6ddd-4774-9d5b-afc4f995bb67",
   "metadata": {},
   "source": [
    "<h4>Finding the optimal k - code function</h4>"
   ]
  },
  {
   "cell_type": "code",
   "execution_count": 38,
   "id": "acf48963-2e38-43d1-8fac-29195740651e",
   "metadata": {},
   "outputs": [],
   "source": [
    "def find_optimal_k(X, y, k_folds):\n",
    "    '''\n",
    "    Finding optimal k based on k_fold_cross_validation to evaluate each k_neighbor which is the most efficiency\n",
    "    Steps:\n",
    "    1. Taking a list range of predictable list of k values (ex: range(1,20))\n",
    "    2. Computing the rate of each k by k_fold_cross_validation function built above, after that adding to an array\n",
    "    3. Find the max value as the optimal k of this array\n",
    "    * Note: If not sastified with the result, we can change the range to fit the model (use line plot to monitor the value)\n",
    "    '''\n",
    "    k_neighbors_list = list(range(1,20))\n",
    "    k_neighbors_list.reverse()\n",
    "    accuracies = []\n",
    "    for k_neighbors in k_neighbors_list:\n",
    "        accuracies.append((k_neighbors, k_fold_cross_validation(X, y, k_folds, k_neighbors)))\n",
    "    # Use this code to visualize the efficiency of k_neighbors\n",
    "    accuracies = np.array(accuracies)\n",
    "    plt.plot(accuracies[:, 0], accuracies[:, 1])\n",
    "    plt.show()\n",
    "    optimal_k = max(accuracies, key=lambda x:x[1])\n",
    "    print(\"max_accuracy: {}\".format(optimal_k[1]))\n",
    "    return int(optimal_k[0])"
   ]
  },
  {
   "cell_type": "markdown",
   "id": "2a7c51eb-a494-4807-bc07-89aebdd84b76",
   "metadata": {},
   "source": [
    "<h4>Apply above functions to train data</h4>"
   ]
  },
  {
   "cell_type": "code",
   "execution_count": 22,
   "id": "6f2eecea-2de6-4b4c-bcd3-cc3d975b510e",
   "metadata": {},
   "outputs": [
    {
     "data": {
      "image/png": "[encoded data removed]",
      "text/plain": [
       "<Figure size 640x480 with 1 Axes>"
      ]
     },
     "metadata": {},
     "output_type": "display_data"
    },
    {
     "data": {
      "image/png": "[encoded data removed]",
      "text/plain": [
       "<Figure size 640x480 with 1 Axes>"
      ]
     },
     "metadata": {},
     "output_type": "display_data"
    }
   ],
   "source": [
    "def main():\n",
    "    x = [4, 5, 10, 4, 3, 11, 14 , 8, 10, 12] # coordinate x\n",
    "    y = [21, 19, 24, 17, 16, 25, 24, 22, 21, 21] # coordinate y\n",
    "\n",
    "    # process the pre-dataset\n",
    "    X_train = [] # train data set\n",
    "    for i in range(len(x)):\n",
    "        X_train.append([x[i], y[i]])\n",
    "    X_train = np.array(X_train)\n",
    "    y_train = np.array([0, 0, 1, 0, 0, 1, 1, 0, 1, 1]) # labels for X_train\n",
    "    X_test = np.array([[8,21],[7,18],[9,22], [4,16],[9,21]]) # test data set\n",
    "\n",
    "    # find optimal k\n",
    "    k_folds = 5\n",
    "    k = find_optimal_k(X_train, y_train, k_folds)\n",
    "    # use this k for model\n",
    "    predictions = knn_predict(X_train, y_train, X_test, k) # take predictable labels\n",
    "\n",
    "    # plot the graph\n",
    "    plt.scatter(x, y, c=y_train) # data from training data\n",
    "    plt.scatter(X_test[:, 0], X_test[:, 1], c=predictions, marker='x') # data from prediction data\n",
    "    for index, test_point in enumerate(X_test):\n",
    "        plt.text(x=test_point[0]-0.2, y=test_point[1]-0.5, \n",
    "             s=f\"p{index}\")\n",
    "    plt.show()\n",
    "main()"
   ]
  },
  {
   "cell_type": "markdown",
   "id": "031bc219-5b3d-4135-a626-0b584198ac6d",
   "metadata": {},
   "source": [
    "<h3>Data Preprocession</h3>"
   ]
  },
  {
   "cell_type": "markdown",
   "id": "dd4962c5-5526-4db5-a602-d9608d5fffaf",
   "metadata": {},
   "source": [
    "1. <h4>Split data</h4>"
   ]
  },
  {
   "cell_type": "code",
   "execution_count": 28,
   "id": "eb515764-3dc4-46b6-9c88-388ed09f7888",
   "metadata": {},
   "outputs": [],
   "source": [
    "def train_test_split(X, y, test_size, random_state=None):\n",
    "    if test_size < 0 or test_size > 1:\n",
    "        raise ValueError(\"test_size is invalid\")\n",
    "    if random_state != None:\n",
    "        np.random.seed(int(random_state))\n",
    "        \n",
    "    X = np.array(X)\n",
    "    y = np.array(y)\n",
    "\n",
    "    n_samples = len(y)\n",
    "    test_size = int(n_samples*test_size)\n",
    "    train_size = n_samples - test_size\n",
    "\n",
    "    indices = np.random.permutation(n_samples)\n",
    "    test_indices = indices[:test_size]\n",
    "    train_indices = indices[test_size:]\n",
    "    \n",
    "    X_train = X[train_indices]\n",
    "    X_test = X[test_indices]\n",
    "    y_train = y[train_indices]\n",
    "    y_test = y[test_indices]\n",
    "    \n",
    "    return X_train, X_test, y_train, y_test"
   ]
  },
  {
   "cell_type": "markdown",
   "id": "1301fdc1-a2aa-4adb-a1eb-7ddf07b3d0a8",
   "metadata": {},
   "source": [
    "<h4>Standard Scaler - Data Preprocession</h4>"
   ]
  },
  {
   "cell_type": "code",
   "execution_count": 24,
   "id": "f4f67913-1042-4027-90bb-ed6f1bb8797a",
   "metadata": {},
   "outputs": [],
   "source": [
    "class StandardScaler():\n",
    "    def __init__(self):\n",
    "        self.means = None\n",
    "        self.stds = None\n",
    "    def fit(self,X):\n",
    "        self.means = np.mean(X, axis=0)\n",
    "        self.stds = np.std(X, axis=0)\n",
    "    def transform(self,X):\n",
    "        if (self.means).all() == None or (self.stds).all() == None:\n",
    "            raise Exception(\"Scaler has not been fitted yet\")\n",
    "        X_scaled = (X - self.means) / self.stds\n",
    "        return X_scaled"
   ]
  },
  {
   "cell_type": "markdown",
   "id": "532caf34-d961-4843-b282-aa6f2a40e39f",
   "metadata": {},
   "source": [
    "<h4>KNN in real dataset</h4>"
   ]
  },
  {
   "cell_type": "markdown",
   "id": "f67bbb0b-50a3-41e1-b347-b701024714cc",
   "metadata": {},
   "source": [
    "<h5>import necessary lib</h5>"
   ]
  },
  {
   "cell_type": "code",
   "execution_count": 7,
   "id": "6680fe79-f226-438b-a3b0-ce95c4bb72da",
   "metadata": {},
   "outputs": [],
   "source": [
    "import numpy as np\n",
    "import pandas as pd"
   ]
  },
  {
   "cell_type": "markdown",
   "id": "0772eaf4-9f51-4ab9-90b1-5c3a81c8d230",
   "metadata": {},
   "source": [
    "<h5>preprocessing data</h5>"
   ]
  },
  {
   "cell_type": "code",
   "execution_count": 75,
   "id": "ad12c2ba-14e4-4baa-a65a-7aa773fea5e8",
   "metadata": {},
   "outputs": [
    {
     "name": "stdout",
     "output_type": "stream",
     "text": [
      "   Unnamed: 0 Company      Product   TypeName  Inches  \\\n",
      "0           1   Apple  MacBook Pro  Ultrabook    13.3   \n",
      "1           2   Apple  Macbook Air  Ultrabook    13.3   \n",
      "2           3      HP       250 G6   Notebook    15.6   \n",
      "3           4   Apple  MacBook Pro  Ultrabook    15.4   \n",
      "4           5   Apple  MacBook Pro  Ultrabook    13.3   \n",
      "\n",
      "                     ScreenResolution                         Cpu   Ram  \\\n",
      "0  IPS Panel Retina Display 2560x1600        Intel Core i5 2.3GHz   8GB   \n",
      "1                            1440x900        Intel Core i5 1.8GHz   8GB   \n",
      "2                   Full HD 1920x1080  Intel Core i5 7200U 2.5GHz   8GB   \n",
      "3  IPS Panel Retina Display 2880x1800        Intel Core i7 2.7GHz  16GB   \n",
      "4  IPS Panel Retina Display 2560x1600        Intel Core i5 3.1GHz   8GB   \n",
      "\n",
      "                Memory                           Gpu  OpSys  Weight  \\\n",
      "0            128GB SSD  Intel Iris Plus Graphics 640  macOS  1.37kg   \n",
      "1  128GB Flash Storage        Intel HD Graphics 6000  macOS  1.34kg   \n",
      "2            256GB SSD         Intel HD Graphics 620  No OS  1.86kg   \n",
      "3            512GB SSD            AMD Radeon Pro 455  macOS  1.83kg   \n",
      "4            256GB SSD  Intel Iris Plus Graphics 650  macOS  1.37kg   \n",
      "\n",
      "   Price_euros  \n",
      "0      1339.69  \n",
      "1       898.94  \n",
      "2       575.00  \n",
      "3      2537.45  \n",
      "4      1803.60  \n"
     ]
    },
    {
     "data": {
      "text/plain": [
       "Unnamed: 0            int64\n",
       "Company              object\n",
       "Product              object\n",
       "TypeName             object\n",
       "Inches              float64\n",
       "ScreenResolution     object\n",
       "Cpu                  object\n",
       "Ram                  object\n",
       "Memory               object\n",
       "Gpu                  object\n",
       "OpSys                object\n",
       "Weight               object\n",
       "Price_euros         float64\n",
       "dtype: object"
      ]
     },
     "execution_count": 75,
     "metadata": {},
     "output_type": "execute_result"
    }
   ],
   "source": [
    "# read file csv\n",
    "data = pd.read_csv(\"laptops.csv\", encoding='latin-1')\n",
    "print(data.head())\n",
    "data.dtypes"
   ]
  },
  {
   "cell_type": "code",
   "execution_count": 80,
   "id": "df190784-cb3a-495e-9ab0-dccaec32ceb9",
   "metadata": {},
   "outputs": [
    {
     "data": {
      "text/plain": [
       "((100, 239), (100,))"
      ]
     },
     "execution_count": 80,
     "metadata": {},
     "output_type": "execute_result"
    }
   ],
   "source": [
    "# extract data\n",
    "X = data.drop(['Price_euros'], axis=1).loc[:99]\n",
    "X = pd.get_dummies(X)\n",
    "y = data.iloc[:100, -1]\n",
    "X.shape, y.shape\n",
    "\n",
    "# plt.scatter(X.iloc[:, 0],X.iloc[:, 1], c=y)\n",
    "# plt.show()"
   ]
  },
  {
   "cell_type": "code",
   "execution_count": 78,
   "id": "b43ecd49-085f-4ce3-905e-ff4b11abbf8a",
   "metadata": {},
   "outputs": [
    {
     "ename": "TypeError",
     "evalue": "unsupported operand type(s) for /: 'str' and 'int'",
     "output_type": "error",
     "traceback": [
      "\u001b[0;31m---------------------------------------------------------------------------\u001b[0m",
      "\u001b[0;31mTypeError\u001b[0m                                 Traceback (most recent call last)",
      "Cell \u001b[0;32mIn[78], line 5\u001b[0m\n\u001b[1;32m      3\u001b[0m \u001b[38;5;66;03m# standardalize data\u001b[39;00m\n\u001b[1;32m      4\u001b[0m scaler \u001b[38;5;241m=\u001b[39m StandardScaler()\n\u001b[0;32m----> 5\u001b[0m \u001b[43mscaler\u001b[49m\u001b[38;5;241;43m.\u001b[39;49m\u001b[43mfit\u001b[49m\u001b[43m(\u001b[49m\u001b[43mX_train\u001b[49m\u001b[43m)\u001b[49m\n\u001b[1;32m      6\u001b[0m X_train_scaled \u001b[38;5;241m=\u001b[39m scaler\u001b[38;5;241m.\u001b[39mtransform(X_train)\n\u001b[1;32m      7\u001b[0m X_test_scaled \u001b[38;5;241m=\u001b[39m scaler\u001b[38;5;241m.\u001b[39mtransform(X_test)\n",
      "Cell \u001b[0;32mIn[24], line 6\u001b[0m, in \u001b[0;36mStandardScaler.fit\u001b[0;34m(self, X)\u001b[0m\n\u001b[1;32m      5\u001b[0m \u001b[38;5;28;01mdef\u001b[39;00m \u001b[38;5;21mfit\u001b[39m(\u001b[38;5;28mself\u001b[39m,X):\n\u001b[0;32m----> 6\u001b[0m     \u001b[38;5;28mself\u001b[39m\u001b[38;5;241m.\u001b[39mmeans \u001b[38;5;241m=\u001b[39m \u001b[43mnp\u001b[49m\u001b[38;5;241;43m.\u001b[39;49m\u001b[43mmean\u001b[49m\u001b[43m(\u001b[49m\u001b[43mX\u001b[49m\u001b[43m,\u001b[49m\u001b[43m \u001b[49m\u001b[43maxis\u001b[49m\u001b[38;5;241;43m=\u001b[39;49m\u001b[38;5;241;43m0\u001b[39;49m\u001b[43m)\u001b[49m\n\u001b[1;32m      7\u001b[0m     \u001b[38;5;28mself\u001b[39m\u001b[38;5;241m.\u001b[39mstds \u001b[38;5;241m=\u001b[39m np\u001b[38;5;241m.\u001b[39mstd(X, axis\u001b[38;5;241m=\u001b[39m\u001b[38;5;241m0\u001b[39m)\n",
      "File \u001b[0;32m~/Documents/MachineLearning/myvenv/lib/python3.9/site-packages/numpy/_core/fromnumeric.py:3596\u001b[0m, in \u001b[0;36mmean\u001b[0;34m(a, axis, dtype, out, keepdims, where)\u001b[0m\n\u001b[1;32m   3593\u001b[0m     \u001b[38;5;28;01melse\u001b[39;00m:\n\u001b[1;32m   3594\u001b[0m         \u001b[38;5;28;01mreturn\u001b[39;00m mean(axis\u001b[38;5;241m=\u001b[39maxis, dtype\u001b[38;5;241m=\u001b[39mdtype, out\u001b[38;5;241m=\u001b[39mout, \u001b[38;5;241m*\u001b[39m\u001b[38;5;241m*\u001b[39mkwargs)\n\u001b[0;32m-> 3596\u001b[0m \u001b[38;5;28;01mreturn\u001b[39;00m \u001b[43m_methods\u001b[49m\u001b[38;5;241;43m.\u001b[39;49m\u001b[43m_mean\u001b[49m\u001b[43m(\u001b[49m\u001b[43ma\u001b[49m\u001b[43m,\u001b[49m\u001b[43m \u001b[49m\u001b[43maxis\u001b[49m\u001b[38;5;241;43m=\u001b[39;49m\u001b[43maxis\u001b[49m\u001b[43m,\u001b[49m\u001b[43m \u001b[49m\u001b[43mdtype\u001b[49m\u001b[38;5;241;43m=\u001b[39;49m\u001b[43mdtype\u001b[49m\u001b[43m,\u001b[49m\n\u001b[1;32m   3597\u001b[0m \u001b[43m                      \u001b[49m\u001b[43mout\u001b[49m\u001b[38;5;241;43m=\u001b[39;49m\u001b[43mout\u001b[49m\u001b[43m,\u001b[49m\u001b[43m \u001b[49m\u001b[38;5;241;43m*\u001b[39;49m\u001b[38;5;241;43m*\u001b[39;49m\u001b[43mkwargs\u001b[49m\u001b[43m)\u001b[49m\n",
      "File \u001b[0;32m~/Documents/MachineLearning/myvenv/lib/python3.9/site-packages/numpy/_core/_methods.py:130\u001b[0m, in \u001b[0;36m_mean\u001b[0;34m(a, axis, dtype, out, keepdims, where)\u001b[0m\n\u001b[1;32m    128\u001b[0m \u001b[38;5;28;01mif\u001b[39;00m \u001b[38;5;28misinstance\u001b[39m(ret, mu\u001b[38;5;241m.\u001b[39mndarray):\n\u001b[1;32m    129\u001b[0m     \u001b[38;5;28;01mwith\u001b[39;00m _no_nep50_warning():\n\u001b[0;32m--> 130\u001b[0m         ret \u001b[38;5;241m=\u001b[39m \u001b[43mum\u001b[49m\u001b[38;5;241;43m.\u001b[39;49m\u001b[43mtrue_divide\u001b[49m\u001b[43m(\u001b[49m\n\u001b[1;32m    131\u001b[0m \u001b[43m                \u001b[49m\u001b[43mret\u001b[49m\u001b[43m,\u001b[49m\u001b[43m \u001b[49m\u001b[43mrcount\u001b[49m\u001b[43m,\u001b[49m\u001b[43m \u001b[49m\u001b[43mout\u001b[49m\u001b[38;5;241;43m=\u001b[39;49m\u001b[43mret\u001b[49m\u001b[43m,\u001b[49m\u001b[43m \u001b[49m\u001b[43mcasting\u001b[49m\u001b[38;5;241;43m=\u001b[39;49m\u001b[38;5;124;43m'\u001b[39;49m\u001b[38;5;124;43munsafe\u001b[39;49m\u001b[38;5;124;43m'\u001b[39;49m\u001b[43m,\u001b[49m\u001b[43m \u001b[49m\u001b[43msubok\u001b[49m\u001b[38;5;241;43m=\u001b[39;49m\u001b[38;5;28;43;01mFalse\u001b[39;49;00m\u001b[43m)\u001b[49m\n\u001b[1;32m    132\u001b[0m     \u001b[38;5;28;01mif\u001b[39;00m is_float16_result \u001b[38;5;129;01mand\u001b[39;00m out \u001b[38;5;129;01mis\u001b[39;00m \u001b[38;5;28;01mNone\u001b[39;00m:\n\u001b[1;32m    133\u001b[0m         ret \u001b[38;5;241m=\u001b[39m arr\u001b[38;5;241m.\u001b[39mdtype\u001b[38;5;241m.\u001b[39mtype(ret)\n",
      "\u001b[0;31mTypeError\u001b[0m: unsupported operand type(s) for /: 'str' and 'int'"
     ]
    }
   ],
   "source": [
    "# split data\n",
    "X_train, X_test, y_train, y_test = train_test_split(X, y, 0.3, 42)\n",
    "\n",
    "\n",
    "# standardalize data\n",
    "scaler = StandardScaler()\n",
    "scaler.fit(X_train)\n",
    "X_train_scaled = scaler.transform(X_train)\n",
    "X_test_scaled = scaler.transform(X_test)"
   ]
  },
  {
   "cell_type": "code",
   "execution_count": 73,
   "id": "fd0c878d-b79a-401b-9d85-d1660e1229ba",
   "metadata": {},
   "outputs": [
    {
     "data": {
      "image/png": "[encoded data removed]",
      "text/plain": [
       "<Figure size 640x480 with 1 Axes>"
      ]
     },
     "metadata": {},
     "output_type": "display_data"
    },
    {
     "name": "stdout",
     "output_type": "stream",
     "text": [
      "max_accuracy: 0.42857142857142855\n"
     ]
    }
   ],
   "source": [
    "# find optimal k\n",
    "k_folds = 10\n",
    "k = find_optimal_k(X_train_scaled, y_train, k_folds)"
   ]
  },
  {
   "cell_type": "code",
   "execution_count": null,
   "id": "72d4949f-4940-44a0-9de7-6a6f9f0f2c0a",
   "metadata": {},
   "outputs": [],
   "source": []
  }
 ],
 "metadata": {
  "kernelspec": {
   "display_name": "Python 3 (ipykernel)",
   "language": "python",
   "name": "python3"
  },
  "language_info": {
   "codemirror_mode": {
    "name": "ipython",
    "version": 3
   },
   "file_extension": ".py",
   "mimetype": "text/x-python",
   "name": "python",
   "nbconvert_exporter": "python",
   "pygments_lexer": "ipython3",
   "version": "3.9.6"
  }
 },
 "nbformat": 4,
 "nbformat_minor": 5
}
