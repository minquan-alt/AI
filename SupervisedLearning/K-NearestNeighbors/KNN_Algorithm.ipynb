{
 "cells": [
  {
   "cell_type": "markdown",
   "id": "cb5f7712-ddc3-480f-b051-db608620958b",
   "metadata": {},
   "source": [
    "<h1>KNN Algorithm</h1>"
   ]
  },
  {
   "cell_type": "code",
   "execution_count": 33,
   "id": "d7c417db-fda0-4e4d-9cfa-5813522f90b7",
   "metadata": {},
   "outputs": [],
   "source": [
    "import numpy as np\n",
    "import matplotlib.pyplot as plt\n",
    "import pandas as pd\n",
    "import time\n",
    "import numpy as np\n",
    "import matplotlib.pyplot as plt\n",
    "from sklearn import neighbors, datasets\n",
    "from sklearn.model_selection import train_test_split"
   ]
  },
  {
   "cell_type": "markdown",
   "id": "d3f2f56f-10c6-4ace-b4e2-dc4fa247b07e",
   "metadata": {},
   "source": [
    "# K-Nearest Neighbors"
   ]
  },
  {
   "cell_type": "markdown",
   "id": "b89e4332-6bf8-4342-b811-ca5728ebcbf7",
   "metadata": {},
   "source": [
    "<b><i>Definition:</b></i> \n",
    "- K-Nearest Neighbors(KNN) is a supervised machine learning methods to tackle the problems related to classification\n",
    "and regression problems\n",
    "- It is a widely used in real life since it has no non-parametric.\n",
    "- It does not require assumption about the underlying data distribution"
   ]
  },
  {
   "cell_type": "markdown",
   "id": "6b2ec085-b805-48b4-a8e4-046bf1aa8f1b",
   "metadata": {},
   "source": [
    "<img src=\"https://media.geeksforgeeks.org/wp-content/uploads/20200616145419/Untitled2781.png\" alt=\"\">"
   ]
  },
  {
   "cell_type": "markdown",
   "id": "942ac1fa-effd-4a7d-9b35-f67794551ffd",
   "metadata": {},
   "source": [
    "<b><i>Intuition behind KNN</b></i>:\n",
    "- We have a set of data points as a training data\n",
    "- After plotting them, we can have some groups or clusters\n",
    "- Input an unclassified point, we can assign it to a group by observing what group its nearest neighbors belong to."
   ]
  },
  {
   "cell_type": "markdown",
   "id": "b05255d2-9848-4365-9258-965c9c3f47aa",
   "metadata": {},
   "source": [
    "<b><i>How KNN work</b></i>\n",
    "\n",
    "- Add a unclassified point\n",
    "- Finding K nearest neighbors based on a distance metric such as Euclidean distance\n",
    "- Then, the class or the value of data point is then detemined by the majority vote or average of the K neighbors"
   ]
  },
  {
   "cell_type": "markdown",
   "id": "815750ac-a344-4222-916a-400c4cce2e61",
   "metadata": {},
   "source": [
    "<b>I. Find Distance</b>"
   ]
  },
  {
   "cell_type": "markdown",
   "id": "56974129-fea2-4388-803e-420604c4738b",
   "metadata": {},
   "source": [
    "1. <b><i>Euclidean Distance</b></i>\n",
    "<img src=\"euclidean.png\" alt=\"\">"
   ]
  },
  {
   "cell_type": "code",
   "execution_count": null,
   "id": "9de40ba3-1840-4f78-a3c0-f926f36d335a",
   "metadata": {},
   "outputs": [],
   "source": [
    "def euclideanDistance(x, X):\n",
    "    return np.sqrt(np.sum([np.pow(x[i] - X[i], 2) for i in range(len(x))]))"
   ]
  },
  {
   "cell_type": "markdown",
   "id": "8ca2ecfb-147a-4f7b-8b5c-18cbc4e451a3",
   "metadata": {},
   "source": [
    "2. <b><i>Manhattan Distance</b></i>\n",
    "<img src=\"manhattan.png\" alt=\"\">"
   ]
  },
  {
   "cell_type": "code",
   "execution_count": 18,
   "id": "0e3e4740-d13c-472d-8b8b-44efc9e5b6a4",
   "metadata": {},
   "outputs": [],
   "source": [
    "def manhattanDistance(x, X):\n",
    "    return np.sum([np.abs(x[i] - X[i]) for i in range(len(x))])"
   ]
  },
  {
   "cell_type": "markdown",
   "id": "182a9056-b4c9-4478-87a2-9a938cac1f98",
   "metadata": {},
   "source": [
    "3. <b><i>Minkowski Distance</b></i>\n",
    "<img src=\"minkowski.png\" alt=\"\">\n",
    "  - Minkowski distance is a general and the most common while dealing with Machine Learning( p = 2 : Euclidean, p = 1: Manhattan)\n",
    "  - Some other distance metrics is as well like <u>Hamming Distance</u> dealed with overlapping comparision between two vectors whose contents can be Boolean as well as string values."
   ]
  },
  {
   "cell_type": "code",
   "execution_count": 19,
   "id": "349ef867-4c2d-41c3-adf1-c8736da202b9",
   "metadata": {},
   "outputs": [],
   "source": [
    "def minkowskiDistance(x, X, p):\n",
    "    return np.around(np.pow(np.sum([np.pow(x[i] - X[i], p) for i in range(len(x))]) , 1/p), 2)"
   ]
  },
  {
   "cell_type": "code",
   "execution_count": 34,
   "id": "ffca978f",
   "metadata": {},
   "outputs": [],
   "source": [
    "def customDistance(x, X, options=0):\n",
    "    '''\n",
    "    default: manhattan distance\n",
    "    0: manhattan distance\n",
    "    1: euclidean distance\n",
    "    n: minkowski distance\n",
    "    '''\n",
    "    if options == 0:\n",
    "        return manhattanDistance(x, X)\n",
    "    elif options == 1:\n",
    "        return euclideanDistance(x, X) \n",
    "    elif options.isdigit():\n",
    "        return minkowskiDistance(x, X, options)\n",
    "    return 0"
   ]
  },
  {
   "cell_type": "markdown",
   "id": "fc5d2dc1-6e51-4d82-9d98-deb4c0af8448",
   "metadata": {},
   "source": [
    "II. <i><b>How to choose the value of k for KNN</b></i>\n",
    "- Choosing the optimal k is crucial to define the number of neighbors, if the input data has more outliers or noise, a higher value of k would be better.\n",
    "- Here the few steps for selecting optimal value of n neighbors in KNN:\n",
    "    - <b>Define a Range</b>: Set a range for k, like 1 to 20.\n",
    "    - <b>Data Split</b>: Segment your dataset into training and testing sets to gauge model generalization.\n",
    "    - <b>Choose Metric</b>: Opt for a performance metric (e.g., accuracy, precision, recall) aligned with your goal.\n",
    "    - <b>Cross-Validation Setup</b>: Employ cross-validation, like <b>k-fold</b>, to robustly evaluate each k value.\n",
    "    - <b>Grid Search</b>: Execute a grid search, testing k across the defined range.\n",
    "    - <b>Evaluate Performance</b>: Compute performance metrics for each k through cross-validation, aiding the identification of the optimal value.\n",
    "    - <b>Visualize Findings</b>: Craft visualizations (line plots, bar charts) to depict the correlation between k and the chosen performance metric.\n",
    "    - <b>Fine-Tune if Needed</b>: If initial results hint at a promising range, narrow it down for finer optimization.\n",
    "    - <b>Select Optimal k</b>: Choose the k value balancing accuracy and simplicity, informed by evaluation and visualization.\n",
    "    - <b>Test on New Data</b>: Validate the chosen k value on a test set to ensure efficacy in predicting new, unseen data."
   ]
  },
  {
   "cell_type": "markdown",
   "id": "8a2501bb-562a-491f-ac22-aef7e50bc24a",
   "metadata": {},
   "source": [
    "<i><b>K Fold Cross Validation</b></i>\n",
    "- Def: Cross validation is a technique used in machine learning to evaluate the performance of a model on unseen data\n",
    "- Used for: The main purpose of cross validation is to prevent overfitting, which occurs when a model is trained too well on the training data and performs poorly on new, unseen data. By evaluating the model on multiple validation sets, cross validation provides a more realistic estimate of the model’s generalization performance, i.e., its ability to perform well on new, unseen data.\n",
    "- Intuition:\n",
    "  - Spliting the dataset into k number of subsets(folds) - * NOTE: k = 5 or k = 10 to avoid overfitting or be the same as LOOCV method.\n",
    "  - Training all subsets and leave one(k - 1) for testing data.\n",
    "  - Iterate above step k times"
   ]
  },
  {
   "cell_type": "code",
   "execution_count": null,
   "id": "32a18acf",
   "metadata": {},
   "outputs": [],
   "source": [
    "def myweight(distances):\n",
    "    sigma2 = .5 # we can change this number\n",
    "    return np.exp(-distances**2/sigma2)"
   ]
  },
  {
   "cell_type": "markdown",
   "id": "b4cc98d6-0301-4951-8f89-45094bb08fce",
   "metadata": {},
   "source": [
    "<h4>KNN Algorithm - code function</h4>"
   ]
  },
  {
   "cell_type": "code",
   "execution_count": null,
   "id": "693eaa35-b3ee-4719-8e85-27ff7f016e13",
   "metadata": {},
   "outputs": [],
   "source": [
    "def knn_predict(X_train, y_train, X_test, k, option=0):\n",
    "    predictions = []\n",
    "    for test_point in X_test: # consider each test data point\n",
    "        distances = [] # create distance array to memorize the distance from train points to test point\n",
    "        for index, train_point in enumerate(X_train): # consider each train point\n",
    "            distance = customDistance(train_point, test_point, option)\n",
    "            distances.append([index, distance]) # calc the Euclidean distance between train point and test point\n",
    "        distances = sorted(distances, key=lambda x:x[1]) # sorted the distances\n",
    "\n",
    "                                                                         # d[index, euclideanDistance] in X_train -> d[0] : index of X_train\n",
    "        label_nearest_neighbors = [y_train[d[0]] for d in distances[:k]] # => y_train[d[0]] is the label of train data point\n",
    "        labels, counts = np.unique(label_nearest_neighbors, return_counts=True) # take unique label with the count\n",
    "        \n",
    "        max_count = np.max(counts)\n",
    "        max_labels = [labels[i] for i, count in enumerate(counts) if count == max_count]\n",
    "        \n",
    "        if len(max_labels) > 1:\n",
    "            # random choice between labels having the same frequency\n",
    "            predictions.append(np.random.choice(max_labels))\n",
    "        else:\n",
    "            predictions.append(max_labels[0])\n",
    "\n",
    "    # visualize the KNN\n",
    "    \n",
    "    return predictions"
   ]
  },
  {
   "cell_type": "markdown",
   "id": "88b940f8-f039-4958-90db-bdeeb2ed3279",
   "metadata": {},
   "source": [
    "<h4>K fold cross validation - code function</h4>"
   ]
  },
  {
   "cell_type": "code",
   "execution_count": 36,
   "id": "32354e95-e414-477e-b44c-203dd3483d8f",
   "metadata": {},
   "outputs": [],
   "source": [
    "def k_fold_cross_validation(X, y, k_folds, k_neighbors, option=0):\n",
    "    '''\n",
    "    Use training data to evaluate k_neighbors\n",
    "    Steps:\n",
    "    1. Taking the fold size \n",
    "    2. Using for loops to iterate each fold as testing data and the remaining folds is for training data\n",
    "    3. After split data, use X_train, y_train, X_test for knn_predict (built above) to take predictions\n",
    "    4. Comparing predictions to y_test to take the accuracy and add to an array\n",
    "    (*Note: I choose accuracy metric to evaluate model, we can use the others like precision or recall metric)\n",
    "    5. When completing the loop, the mean of array is the estimator performance\n",
    "    '''\n",
    "    fold_size = len(X) // k_folds\n",
    "    accuracies = []\n",
    "    for i in range(k_folds):\n",
    "        X_train = np.concatenate((X[: i * fold_size], X[(i + 1) * fold_size:]))\n",
    "        y_train = np.concatenate((y[: i * fold_size], y[(i + 1) * fold_size:]))\n",
    "        X_test = X[i * fold_size: (i + 1) * fold_size]\n",
    "        y_test = y[i * fold_size: (i + 1) * fold_size]\n",
    "        predictions = knn_predict(X_train, y_train, X_test, k_neighbors, option)\n",
    "        numberOfTruePredictions = np.sum([1 if predictions[j] == y_test[j] else 0 for j in range(fold_size)])\n",
    "        accuracies.append(numberOfTruePredictions / len(predictions))\n",
    "    return np.mean(accuracies)"
   ]
  },
  {
   "cell_type": "markdown",
   "id": "5aa04d6c-6ddd-4774-9d5b-afc4f995bb67",
   "metadata": {},
   "source": [
    "<h4>Finding the optimal k - code function</h4>"
   ]
  },
  {
   "cell_type": "code",
   "execution_count": 37,
   "id": "acf48963-2e38-43d1-8fac-29195740651e",
   "metadata": {},
   "outputs": [],
   "source": [
    "def find_optimal_k(X, y, k_folds, option=0):\n",
    "    '''\n",
    "    Finding optimal k based on k_fold_cross_validation to evaluate each k_neighbor which is the most efficiency\n",
    "    Steps:\n",
    "    1. Taking a list range of predictable list of k values (ex: range(1,20))\n",
    "    2. Computing the rate of each k by k_fold_cross_validation function built above, after that adding to an array\n",
    "    3. Find the max value as the optimal k of this array\n",
    "    * Note: If not sastified with the result, we can change the range to fit the model (use line plot to monitor the value)\n",
    "    '''\n",
    "    k_neighbors_list = list(range(1,50))\n",
    "    k_neighbors_list.reverse()\n",
    "    accuracies = []\n",
    "    for k_neighbors in k_neighbors_list:\n",
    "        accuracies.append((k_neighbors, k_fold_cross_validation(X, y, k_folds, k_neighbors, option)))\n",
    "    # Use this code to visualize the efficiency of k_neighbors\n",
    "    accuracies = np.array(accuracies)\n",
    "    plt.plot(accuracies[:, 0], accuracies[:, 1])\n",
    "    plt.show()\n",
    "    optimal_k = max(accuracies, key=lambda x:x[1])\n",
    "    print(\"max_accuracy: {} <br>optimal_k: {} \".format(optimal_k[1], optimal_k[0]))\n",
    "    return int(optimal_k[0])"
   ]
  },
  {
   "cell_type": "markdown",
   "id": "2a7c51eb-a494-4807-bc07-89aebdd84b76",
   "metadata": {},
   "source": [
    "<h4>Apply above functions to train data</h4>"
   ]
  },
  {
   "cell_type": "code",
   "execution_count": 41,
   "id": "6f2eecea-2de6-4b4c-bcd3-cc3d975b510e",
   "metadata": {},
   "outputs": [
    {
     "name": "stdout",
     "output_type": "stream",
     "text": [
      "Number of classes: 3\n",
      "Number of data points: 150\n"
     ]
    },
    {
     "data": {
      "image/png": "[encoded data removed]",
      "text/plain": [
       "<Figure size 640x480 with 1 Axes>"
      ]
     },
     "metadata": {},
     "output_type": "display_data"
    },
    {
     "name": "stdout",
     "output_type": "stream",
     "text": [
      "max_accuracy: 0.9571428571428573 <br>optimal_k: 15.0 \n",
      "Accuracy: 100.0%\n"
     ]
    }
   ],
   "source": [
    "def main():\n",
    "    # x = [4, 5, 10, 4, 3, 11, 14 , 8, 10, 12] # coordinate x\n",
    "    # y = [21, 19, 24, 17, 16, 25, 24, 22, 21, 21] # coordinate y\n",
    "\n",
    "    # # process the pre-dataset\n",
    "    # X_train = []\n",
    "    # for i in range(len(x)):\n",
    "    #     X_train.append([x[i], y[i]])\n",
    "    # X_train = np.array(X_train)\n",
    "    # y_train = np.array([0, 0, 1, 0, 0, 1, 1, 0, 1, 1]) # labels for X_train\n",
    "    # X_test = np.array([[8,21],[7,18],[9,22], [4,16],[9,21]]) # test data set\n",
    "    \n",
    "    iris = datasets.load_iris()\n",
    "    iris_X = iris.data\n",
    "    iris_y = iris.target\n",
    "    print('Number of classes: %d' %len(np.unique(iris_y)))\n",
    "    print('Number of data points: %d' %len(iris_y))\n",
    "\n",
    "    \n",
    "    X_train, X_test, y_train, y_test = train_test_split(iris_X, iris_y, test_size=10)\n",
    "\n",
    "    # find optimal k\n",
    "    k_folds = 5\n",
    "    options = 1 # find optimal distance\n",
    "    k = find_optimal_k(X_train, y_train, k_folds, options)\n",
    "    # use this k for model\n",
    "    predictions = knn_predict(X_train, y_train, X_test, k, options)\n",
    "    \n",
    "    accuracy = sum(1 for i in range(len(predictions)) if predictions[i] == y_test[i]) / len(predictions) * 100\n",
    "    print(f'Accuracy: {accuracy}%')\n",
    "    \n",
    "    # # plot the graph\n",
    "    # plt.scatter(x, y, c=y_train) # data from training data\n",
    "    # plt.scatter(X_test[:, 0], X_test[:, 1], c=predictions, marker='x') # data from prediction data\n",
    "    # for index, test_point in enumerate(X_test):\n",
    "    #     plt.text(x=test_point[0]-0.2, y=test_point[1]-0.5, \n",
    "    #          s=f\"p{index}\")\n",
    "    # plt.show()\n",
    "main()"
   ]
  },
  {
   "cell_type": "markdown",
   "id": "5a671c04",
   "metadata": {},
   "source": [
    "Accuracy Manhattan: 96%\n",
    "Accuracy Euclidean: 98%"
   ]
  },
  {
   "cell_type": "markdown",
   "id": "031bc219-5b3d-4135-a626-0b584198ac6d",
   "metadata": {},
   "source": [
    "<h3>Data Preprocession</h3>"
   ]
  },
  {
   "cell_type": "markdown",
   "id": "dd4962c5-5526-4db5-a602-d9608d5fffaf",
   "metadata": {},
   "source": [
    "1. <h4>Split data</h4>"
   ]
  },
  {
   "cell_type": "code",
   "execution_count": 26,
   "id": "eb515764-3dc4-46b6-9c88-388ed09f7888",
   "metadata": {},
   "outputs": [],
   "source": [
    "def train_test_split(X, y, test_size, random_state=None):\n",
    "    if test_size < 0 or test_size > 1:\n",
    "        raise ValueError(\"test_size is invalid\")\n",
    "    if random_state != None:\n",
    "        np.random.seed(int(random_state))\n",
    "        \n",
    "    X = np.array(X)\n",
    "    y = np.array(y)\n",
    "\n",
    "    n_samples = len(y)\n",
    "    test_size = int(n_samples*test_size)\n",
    "    train_size = n_samples - test_size\n",
    "\n",
    "    indices = np.random.permutation(n_samples) # hoan vi ngau nhien\n",
    "    \n",
    "    test_indices = indices[:test_size] \n",
    "    train_indices = indices[test_size:]\n",
    "    \n",
    "    X_train = X[train_indices]\n",
    "    X_test = X[test_indices]\n",
    "    y_train = y[train_indices]\n",
    "    y_test = y[test_indices]\n",
    "    \n",
    "    return X_train, X_test, y_train, y_test"
   ]
  },
  {
   "cell_type": "markdown",
   "id": "1301fdc1-a2aa-4adb-a1eb-7ddf07b3d0a8",
   "metadata": {},
   "source": [
    "<h4>Standard Scaler - Data Preprocession</h4>"
   ]
  },
  {
   "cell_type": "code",
   "execution_count": 10,
   "id": "f4f67913-1042-4027-90bb-ed6f1bb8797a",
   "metadata": {},
   "outputs": [],
   "source": [
    "class StandardScaler():\n",
    "    def __init__(self):\n",
    "        self.means = None\n",
    "        self.stds = None\n",
    "    def fit(self,X):\n",
    "        self.means = np.mean(X, axis=0)\n",
    "        self.stds = np.std(X, axis=0)\n",
    "    def transform(self,X):\n",
    "        if (self.means).all() == None or (self.stds).all() == None:\n",
    "            raise Exception(\"Scaler has not been fitted yet\")\n",
    "        X_scaled = (X - self.means) / self.stds\n",
    "        return X_scaled"
   ]
  },
  {
   "cell_type": "markdown",
   "id": "532caf34-d961-4843-b282-aa6f2a40e39f",
   "metadata": {},
   "source": [
    "<h4>KNN in real dataset</h4>"
   ]
  },
  {
   "cell_type": "markdown",
   "id": "f67bbb0b-50a3-41e1-b347-b701024714cc",
   "metadata": {},
   "source": [
    "<h5>import necessary lib</h5>"
   ]
  },
  {
   "cell_type": "code",
   "execution_count": 11,
   "id": "6680fe79-f226-438b-a3b0-ce95c4bb72da",
   "metadata": {},
   "outputs": [],
   "source": [
    "import numpy as np\n",
    "import pandas as pd"
   ]
  },
  {
   "cell_type": "markdown",
   "id": "0772eaf4-9f51-4ab9-90b1-5c3a81c8d230",
   "metadata": {},
   "source": [
    "<h5>preprocessing data</h5>"
   ]
  },
  {
   "cell_type": "code",
   "execution_count": 12,
   "id": "ad12c2ba-14e4-4baa-a65a-7aa773fea5e8",
   "metadata": {},
   "outputs": [
    {
     "name": "stdout",
     "output_type": "stream",
     "text": [
      "   region  tenure  age  marital  address  income  ed  employ  retire  gender  \\\n",
      "0       2      13   44        1        9    64.0   4       5     0.0       0   \n",
      "1       3      11   33        1        7   136.0   5       5     0.0       0   \n",
      "2       3      68   52        1       24   116.0   1      29     0.0       1   \n",
      "3       2      33   33        0       12    33.0   2       0     0.0       1   \n",
      "4       2      23   30        1        9    30.0   1       2     0.0       0   \n",
      "\n",
      "   reside  custcat  \n",
      "0       2        1  \n",
      "1       6        4  \n",
      "2       2        3  \n",
      "3       1        1  \n",
      "4       4        3  \n"
     ]
    },
    {
     "data": {
      "text/plain": [
       "region       int64\n",
       "tenure       int64\n",
       "age          int64\n",
       "marital      int64\n",
       "address      int64\n",
       "income     float64\n",
       "ed           int64\n",
       "employ       int64\n",
       "retire     float64\n",
       "gender       int64\n",
       "reside       int64\n",
       "custcat      int64\n",
       "dtype: object"
      ]
     },
     "execution_count": 12,
     "metadata": {},
     "output_type": "execute_result"
    }
   ],
   "source": [
    "# read file csv\n",
    "data = pd.read_csv(\"teleCust1000t.csv\", encoding='latin-1')\n",
    "print(data.head())\n",
    "data.dtypes"
   ]
  },
  {
   "cell_type": "code",
   "execution_count": 13,
   "id": "df190784-cb3a-495e-9ab0-dccaec32ceb9",
   "metadata": {},
   "outputs": [
    {
     "data": {
      "text/plain": [
       "((1000, 11), (1000,))"
      ]
     },
     "execution_count": 13,
     "metadata": {},
     "output_type": "execute_result"
    }
   ],
   "source": [
    "# extract data\n",
    "# X = data.drop(['retire', 'martial'], axis=1).loc[:99]\n",
    "# X = pd.get_dummies(X)\n",
    "# y = data.iloc[:100, -1]\n",
    "# X.shape, y.shape\n",
    "\n",
    "X = data.drop(['custcat'], axis=1)\n",
    "y = data.iloc[:, -1]\n",
    "X.shape, y.shape\n",
    "# plt.scatter(X.iloc[:, 0],X.iloc[:, 1], c=y)\n",
    "# plt.show()"
   ]
  },
  {
   "cell_type": "code",
   "execution_count": 14,
   "id": "b43ecd49-085f-4ce3-905e-ff4b11abbf8a",
   "metadata": {},
   "outputs": [],
   "source": [
    "# split data\n",
    "X_train, X_test, y_train, y_test = train_test_split(X, y, 0.3, 42)\n",
    "\n",
    "\n",
    "# standardalize data\n",
    "scaler = StandardScaler()\n",
    "scaler.fit(X_train)\n",
    "X_train_scaled = scaler.transform(X_train)\n",
    "X_test_scaled = scaler.transform(X_test)"
   ]
  },
  {
   "cell_type": "code",
   "execution_count": 15,
   "id": "fd0c878d-b79a-401b-9d85-d1660e1229ba",
   "metadata": {},
   "outputs": [],
   "source": [
    "# # find optimal k\n",
    "# k_folds = 10\n",
    "# k = find_optimal_k(X_train_scaled, y_train, k_folds)"
   ]
  }
 ],
 "metadata": {
  "kernelspec": {
   "display_name": "SupervisedLearning.venv",
   "language": "python",
   "name": "python3"
  },
  "language_info": {
   "codemirror_mode": {
    "name": "ipython",
    "version": 3
   },
   "file_extension": ".py",
   "mimetype": "text/x-python",
   "name": "python",
   "nbconvert_exporter": "python",
   "pygments_lexer": "ipython3",
   "version": "3.9.6"
  }
 },
 "nbformat": 4,
 "nbformat_minor": 5
}
