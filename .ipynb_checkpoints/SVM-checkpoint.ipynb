{
 "cells": [
  {
   "cell_type": "code",
   "execution_count": 1,
   "id": "bb569a60-fc7d-4083-ab44-87fbfa452166",
   "metadata": {},
   "outputs": [],
   "source": [
    "import numpy as np\n",
    "import matplotlib.pyplot as plt\n",
    "import pandas as pd"
   ]
  },
  {
   "cell_type": "code",
   "execution_count": 2,
   "id": "2ce7e38b-6c63-4394-b532-a2af2ddf6505",
   "metadata": {},
   "outputs": [],
   "source": [
    "import numpy as np\n",
    "import matplotlib.pyplot as plt\n",
    "\n",
    "# Đặt seed cố định để tái hiện kết quả\n",
    "np.random.seed(42)\n",
    "\n",
    "# Số lượng điểm dữ liệu mỗi lớp\n",
    "num_points = 100\n",
    "num_features = 2\n",
    "\n",
    "# Tạo dữ liệu lớp -1\n",
    "X_neg = np.random.randn(num_points, num_features) - [2, 2] \n",
    "y_neg = -1 * np.ones(num_points)  # Nhãn lớp -1\n",
    "\n",
    "# Tạo dữ liệu lớp 1\n",
    "X_pos = np.random.randn(num_points, num_features) + [2, 2] \n",
    "y_pos = np.ones(num_points)  # Nhãn lớp 1\n",
    "\n",
    "# Kết hợp hai lớp dữ liệu\n",
    "X = np.vstack((X_neg, X_pos))\n",
    "y = np.hstack((y_neg, y_pos))\n",
    "w = [0, 1, -1]\n",
    "\n",
    "# Vẽ biểu đồ scatter\n",
    "plt.scatter(X_neg[:, 0], X_neg[:, 1], color='blue', label='Class -1')\n",
    "plt.scatter(X_pos[:, 0], X_pos[:, 1], color='red', label='Class 1')\n",
    "\n",
    "# Vẽ siêu phẳng phân tách (x = y là siêu phẳng)\n",
    "\n",
    "x1 = np.linspace(-5, 5, 1000)\n",
    "x2 = -(w[0] + w[1]*x1)/w[2]\n",
    "plt.plot(x1, x2, color='green', label='Hyperplane')\n",
    "\n",
    "plt.legend()\n",
    "plt.xlabel('Feature 1')\n",
    "plt.ylabel('Feature 2')\n",
    "plt.title('Perfectly Separable Data')\n",
    "plt.show()"
   ]
  },
  {
   "cell_type": "code",
   "execution_count": null,
   "id": "1eb6e28d-dd44-4813-8ff7-49d5209ff3a4",
   "metadata": {},
   "outputs": [],
   "source": []
  }
 ],
 "metadata": {
  "kernelspec": {
   "display_name": "Python 3 (ipykernel)",
   "language": "python",
   "name": "python3"
  },
  "language_info": {
   "codemirror_mode": {
    "name": "ipython",
    "version": 3
   },
   "file_extension": ".py",
   "mimetype": "text/x-python",
   "name": "python",
   "nbconvert_exporter": "python",
   "pygments_lexer": "ipython3",
   "version": "3.9.6"
  }
 },
 "nbformat": 4,
 "nbformat_minor": 5
}
