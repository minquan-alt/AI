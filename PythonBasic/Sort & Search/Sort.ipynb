{
 "cells": [
  {
   "cell_type": "markdown",
   "metadata": {},
   "source": [
    "# Sorting Algorithm\n",
    "<img src=\"./img/sorting_algorithm.webp\">"
   ]
  },
  {
   "cell_type": "markdown",
   "metadata": {
    "vscode": {
     "languageId": "plaintext"
    }
   },
   "source": [
    "## Categories\n",
    "- Comparison Based:\n",
    "    - Selection Sort\n",
    "    - Insertion Sort \n",
    "    - Bubble Sort\n",
    "    - Merge Sort\n",
    "    - Quick Sort\n",
    "    - Heap Sort\n",
    "    - Cycle Sort\n",
    "    - 3-way Merge Sort\n",
    "- Non-Comparison Based:\n",
    "    - Counting Sort\n",
    "    - Radix Sort\n",
    "    - Bucket Sort\n",
    "    - Tim Sort\n",
    "    - Comb Sort\n",
    "    - Pigeonhole Sort\n",
    "- Hybrid:\n",
    "    - Intro Sort\n",
    "    - Tim Sort"
   ]
  },
  {
   "cell_type": "markdown",
   "metadata": {},
   "source": [
    "### Comparison Based"
   ]
  },
  {
   "cell_type": "markdown",
   "metadata": {},
   "source": [
    "#### Selection Sort:\n",
    "- Intuition:\n",
    "    + Iterating over each item\n",
    "    + During each iteration: selecting the smallest item and swap with current item\n",
    "- Complexity:\n",
    "    + Best Case: 𝑂(n^2)\n",
    "    + Average Case: 𝑂(n^2)\n",
    "    + Worst Case: O(n^2)"
   ]
  },
  {
   "cell_type": "code",
   "execution_count": 9,
   "metadata": {},
   "outputs": [],
   "source": [
    "def SelectionSort(a):\n",
    "    len_a = len(a)\n",
    "    for i in range(len_a - 1):\n",
    "        current_minimum_idx = i\n",
    "        for j in range(i + 1, len_a):\n",
    "            if a[j] < a[current_minimum_idx]:\n",
    "                current_minimum_idx = j\n",
    "        a[i], a[current_minimum_idx] = a[current_minimum_idx], a[i]\n",
    "    return a"
   ]
  },
  {
   "cell_type": "markdown",
   "metadata": {},
   "source": [
    "#### Insertion Sort\n",
    "- Intuition:\n",
    "    + Builds the sorted array one element at a time by inserting elements into their correct position.\n",
    "- Complexity:\n",
    "    + Worst: 𝑂(n^2)\n",
    "    + Best: 𝑂(n) (nearly sorted input)\n",
    "    + Space: O(1) (in-place)"
   ]
  },
  {
   "cell_type": "code",
   "execution_count": null,
   "metadata": {},
   "outputs": [],
   "source": [
    "def InsertionSort(a):\n",
    "    len_a = len(a)\n",
    "    i = 1\n",
    "    for i in range(1, len_a):\n",
    "        current_item = a[i]\n",
    "        j = i - 1\n",
    "        while j >= 0 and a[j] > current_item:\n",
    "            a[j + 1] = a[j]\n",
    "            j -= 1\n",
    "        a[j + 1] = current_item\n",
    "    return a"
   ]
  },
  {
   "cell_type": "markdown",
   "metadata": {},
   "source": [
    "#### Bubble Sort\n",
    "- Intuition:\n",
    "    + Repeatedly swaps adjacent elements if they are in the wrong order, \"bubbling\" the largest to the top.\n",
    "- Complexity:\n",
    "    + Worst: 𝑂(n^2)\n",
    "    + Best: 𝑂(n) (nearly sorted input)\n",
    "    + Space: O(1)"
   ]
  },
  {
   "cell_type": "code",
   "execution_count": 33,
   "metadata": {},
   "outputs": [],
   "source": [
    "def BubbleSort(a):\n",
    "    len_a = len(a)\n",
    "    for i in range(len_a):\n",
    "        swapped = False\n",
    "        for j in range(len_a - i - 1):\n",
    "            if a[j] > a[j+1]:\n",
    "                a[j], a[j + 1] = a[j + 1], a[j]\n",
    "                swapped = True\n",
    "        if not swapped:\n",
    "            break\n",
    "    return a"
   ]
  },
  {
   "cell_type": "code",
   "execution_count": 34,
   "metadata": {},
   "outputs": [
    {
     "name": "stdout",
     "output_type": "stream",
     "text": [
      "['A', 'A', 'A', 'B', 'C', 'D', 'E', 'F', 'F', 'G']\n"
     ]
    }
   ],
   "source": [
    "A = ['B', 'A', 'D', 'G', 'F', 'C', 'E', 'A', 'A', 'F']\n",
    "print(BubbleSort(A))"
   ]
  }
 ],
 "metadata": {
  "kernelspec": {
   "display_name": "AI.venv",
   "language": "python",
   "name": "python3"
  },
  "language_info": {
   "codemirror_mode": {
    "name": "ipython",
    "version": 3
   },
   "file_extension": ".py",
   "mimetype": "text/x-python",
   "name": "python",
   "nbconvert_exporter": "python",
   "pygments_lexer": "ipython3",
   "version": "3.13.1"
  }
 },
 "nbformat": 4,
 "nbformat_minor": 2
}
