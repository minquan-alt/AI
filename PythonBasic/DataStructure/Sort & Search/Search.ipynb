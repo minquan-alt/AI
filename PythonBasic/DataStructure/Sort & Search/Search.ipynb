{
 "cells": [
  {
   "cell_type": "markdown",
   "id": "5b39b38b",
   "metadata": {},
   "source": [
    "# Searching Algorithm\n",
    "<img src=\"./img/search_algorithm.png\">"
   ]
  },
  {
   "cell_type": "code",
   "execution_count": 20,
   "id": "613747d0-5cc7-4ea7-9bfc-788b6de38c8c",
   "metadata": {},
   "outputs": [
    {
     "data": {
      "text/plain": [
       "'2.2.1'"
      ]
     },
     "execution_count": 20,
     "metadata": {},
     "output_type": "execute_result"
    }
   ],
   "source": [
    "import numpy as np\n",
    "import time\n",
    "np.__version__"
   ]
  },
  {
   "cell_type": "markdown",
   "id": "fa911c12",
   "metadata": {},
   "source": [
    "### Linear Search\n"
   ]
  },
  {
   "cell_type": "markdown",
   "id": "9b92cd16",
   "metadata": {},
   "source": [
    "Intuition: Iterating all the list and find where it is"
   ]
  },
  {
   "cell_type": "code",
   "execution_count": 21,
   "id": "c31dbd31",
   "metadata": {},
   "outputs": [],
   "source": [
    "def LinearSearch(items, x):\n",
    "    for index, item in enumerate(items):\n",
    "        if item == x:\n",
    "            return index\n",
    "    return -1"
   ]
  },
  {
   "cell_type": "markdown",
   "id": "eda659ad",
   "metadata": {},
   "source": [
    "### Binary Search"
   ]
  },
  {
   "cell_type": "markdown",
   "id": "45c9207f",
   "metadata": {},
   "source": [
    "- Input Constraint: Ordered List\n",
    "- Intuition:\n",
    "    + Choose the middle item\n",
    "    + if x < middle item, finding on the left side, or if x > middle item, finding on the right side, or if x = middle item, return this"
   ]
  },
  {
   "cell_type": "code",
   "execution_count": 22,
   "id": "4c942c49",
   "metadata": {},
   "outputs": [],
   "source": [
    "def BinarySearch(items, left, right, x):\n",
    "    if left > right:\n",
    "        return -1\n",
    "    mid = int((right + left) / 2)\n",
    "    if x < items[mid]:\n",
    "        return BinarySearch(items, left, mid - 1, x)\n",
    "    elif x > items[mid]:\n",
    "        return BinarySearch(items, mid + 1, right, x)\n",
    "    return mid"
   ]
  },
  {
   "cell_type": "markdown",
   "id": "a0c9eefd",
   "metadata": {},
   "source": [
    "### Interpolation Search"
   ]
  },
  {
   "cell_type": "markdown",
   "id": "839308c7",
   "metadata": {},
   "source": [
    "- Input Constraint: Ordered List\n",
    "- Intuition:\n",
    "    + If query item is closer with the first item, the estimated position is closer with the first item\n",
    "    + Or if query item is closer with the last item, the estimated position is closer with the last item\n",
    "- Estimated Position Formula:\n",
    "    + pos = low + ((x - arr[low]) * (high - low)) / (arr[high] - arr[low])\n"
   ]
  },
  {
   "cell_type": "code",
   "execution_count": 23,
   "id": "0975b30a",
   "metadata": {},
   "outputs": [],
   "source": [
    "def InterpolationSearch(items, left, right, x):\n",
    "    if left >= right:\n",
    "        return -1\n",
    "    pos = left + int(((right - left) * (x - items[left])) / (items[right] - items[left]))\n",
    "    if x < items[pos]:\n",
    "        return InterpolationSearch(items, left, pos - 1, x)\n",
    "    elif x > items[pos]:\n",
    "        return InterpolationSearch(items, pos + 1, right, x)\n",
    "    return pos"
   ]
  },
  {
   "cell_type": "markdown",
   "id": "5f2bc84f",
   "metadata": {},
   "source": [
    "### Create a random ordered list"
   ]
  },
  {
   "cell_type": "code",
   "execution_count": 28,
   "id": "b3ccd9f1",
   "metadata": {},
   "outputs": [],
   "source": [
    "np.random.seed(42)\n",
    "random_ordered_list = np.sort(np.random.random(100000000))\n",
    "random_choice_value = np.random.choice(random_ordered_list)"
   ]
  },
  {
   "cell_type": "code",
   "execution_count": 29,
   "id": "e104af34",
   "metadata": {},
   "outputs": [
    {
     "name": "stdout",
     "output_type": "stream",
     "text": [
      "--- 4.02106499671936 seconds ---\n",
      "--- 0.0004067420959472656 seconds ---\n",
      "--- 0.0007731914520263672 seconds ---\n"
     ]
    }
   ],
   "source": [
    "# Linear Search\n",
    "linear_start_time = time.time()\n",
    "LinearSearch(random_ordered_list, random_choice_value)\n",
    "print(\"--- %s seconds ---\" % (time.time() - linear_start_time))\n",
    "\n",
    "# Binary Search\n",
    "binary_start_time = time.time()\n",
    "BinarySearch(random_ordered_list, 0, len(random_ordered_list) - 1, random_choice_value)\n",
    "print(\"--- %s seconds ---\" % (time.time() - binary_start_time))\n",
    "\n",
    "# Interpolation Search\n",
    "interpolation_start_time = time.time()\n",
    "InterpolationSearch(random_ordered_list, 0, len(random_ordered_list) - 1, random_choice_value)\n",
    "print(\"--- %s seconds ---\" % (time.time() - interpolation_start_time))"
   ]
  },
  {
   "cell_type": "markdown",
   "id": "fdeaea42",
   "metadata": {},
   "source": [
    "Uses:\n",
    "+ Not ordered list: Linear Search\n",
    "+ Ordered List: Binary Search (more stable than Interpolation Search)\n",
    "+ Ordered List and Even Distribution: Interpolation Search (can faster than Binary Search)"
   ]
  }
 ],
 "metadata": {
  "kernelspec": {
   "display_name": "AI.venv",
   "language": "python",
   "name": "python3"
  },
  "language_info": {
   "codemirror_mode": {
    "name": "ipython",
    "version": 3
   },
   "file_extension": ".py",
   "mimetype": "text/x-python",
   "name": "python",
   "nbconvert_exporter": "python",
   "pygments_lexer": "ipython3",
   "version": "3.13.1"
  }
 },
 "nbformat": 4,
 "nbformat_minor": 5
}
